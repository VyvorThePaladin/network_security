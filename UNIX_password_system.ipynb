{
 "cells": [
  {
   "cell_type": "code",
   "execution_count": 1,
   "metadata": {},
   "outputs": [],
   "source": [
    "import uuid, hashlib, pickle, os, rehash"
   ]
  },
  {
   "cell_type": "code",
   "execution_count": 2,
   "metadata": {},
   "outputs": [],
   "source": [
    "password_database = {}\n",
    "FILENAME = 'db.pickle'"
   ]
  },
  {
   "cell_type": "code",
   "execution_count": 3,
   "metadata": {},
   "outputs": [],
   "source": [
    "def sign_in(user_name):\n",
    "    print('Please enter your password.')\n",
    "    password = input()\n",
    "    \n",
    "    with open(FILENAME, 'rb') as handle:\n",
    "        pwd_db = pickle.load(handle)\n",
    "        \n",
    "    salt = pwd_db[user_name]['SALT']\n",
    "    checker = rehash.sha256(salt.encode() + password.encode())\n",
    "    return pwd_db[user_name]['HASH_CODE'].hexdigest()  == checker.hexdigest() "
   ]
  },
  {
   "cell_type": "code",
   "execution_count": 4,
   "metadata": {},
   "outputs": [],
   "source": [
    "def sign_up(user_name):\n",
    "    print('Please enter your password.')\n",
    "    password = input().encode()\n",
    "    \n",
    "    # generate salt using a random number (we use uuid package) \n",
    "    salt = uuid.uuid4().hex\n",
    "    \n",
    "    # generate hashed password using SHA 256\n",
    "    hash_code = rehash.sha256(salt.encode() + password)\n",
    "    \n",
    "    password_database[user_name] = {'SALT': salt,\n",
    "                                    'HASH_CODE': hash_code\n",
    "                                   }\n",
    "\n",
    "    with open(FILENAME, 'wb') as handle:\n",
    "        pickle.dump(password_database, handle, protocol=pickle.HIGHEST_PROTOCOL)"
   ]
  },
  {
   "cell_type": "code",
   "execution_count": 5,
   "metadata": {},
   "outputs": [],
   "source": [
    "def change_pw(user_name):\n",
    "    print('Please enter your new password.')\n",
    "    password = input().encode()\n",
    "    \n",
    "    # generate salt using a random number (we use uuid package) \n",
    "    salt = uuid.uuid4().hex\n",
    "    \n",
    "    # generate hashed password using SHA 256\n",
    "    hash_code = rehash.sha256(salt.encode() + password)\n",
    "    \n",
    "    password_database[user_name] = {'SALT': salt,\n",
    "                                    'HASH_CODE': hash_code\n",
    "                                   }\n",
    "\n",
    "    with open(FILENAME, 'wb') as handle:\n",
    "        pickle.dump(password_database, handle, protocol=pickle.HIGHEST_PROTOCOL)"
   ]
  },
  {
   "cell_type": "code",
   "execution_count": 6,
   "metadata": {},
   "outputs": [
    {
     "name": "stdout",
     "output_type": "stream",
     "text": [
      "Enter one of the following three options:\n",
      "1. SIGN UP\n",
      "2. SIGN IN\n",
      "3. CHANGE PASSWORD\n",
      "1\n",
      "Please enter a unique username.\n",
      "Sujit\n",
      "Please enter your password.\n",
      "Konapur\n",
      "Successfully signed up!\n"
     ]
    }
   ],
   "source": [
    "print('Enter one of the following three options:')\n",
    "print('1. SIGN UP')\n",
    "print('2. SIGN IN')\n",
    "print('3. CHANGE PASSWORD')\n",
    "\n",
    "try:\n",
    "    choice = int(input())\n",
    "\n",
    "    if choice == 1:\n",
    "        try:\n",
    "            print('Please enter a unique username.')\n",
    "            user_name = input().encode()\n",
    "\n",
    "            if os.path.exists(FILENAME):\n",
    "                with open(FILENAME, 'rb') as handle:\n",
    "                    a = pickle.load(handle)\n",
    "                if user_name in a:\n",
    "                    assert(False)\n",
    "                else:\n",
    "                    sign_up(user_name)\n",
    "                    print('Successfully signed up!')\n",
    "            else:\n",
    "                sign_up(user_name)\n",
    "                print('Successfully signed up!')\n",
    "        except AssertionError:\n",
    "            print('Username already in use!')\n",
    "\n",
    "    elif choice == 2:\n",
    "        try:\n",
    "            print('Please enter your username.')\n",
    "            user_name = input().encode()\n",
    "            if sign_in(user_name):\n",
    "                print('Successfully signed in!')\n",
    "            else:\n",
    "                print('Invalid Password!')\n",
    "        except KeyError:\n",
    "            print('User does not exist!!')\n",
    "\n",
    "    elif choice == 3:\n",
    "        print('Please enter your username to be changed!')\n",
    "        user_name = input().encode()\n",
    "        \n",
    "        if os.path.exists(FILENAME):\n",
    "\n",
    "            try:\n",
    "                if sign_in(user_name):\n",
    "                    if user_name in password_database:\n",
    "                        change_pw(user_name)\n",
    "                        print('Successfully changed password!')\n",
    "                    else:\n",
    "                        print('no valid user!')\n",
    "            except KeyError:\n",
    "                print('No such user!')\n",
    "        \n",
    "        else:\n",
    "            print('Sign up first!!')\n",
    "                \n",
    "    else:\n",
    "        print('Invalid Input!')\n",
    "\n",
    "except ValueError:\n",
    "    print('Invalid Input!')"
   ]
  },
  {
   "cell_type": "code",
   "execution_count": null,
   "metadata": {},
   "outputs": [],
   "source": []
  }
 ],
 "metadata": {
  "kernelspec": {
   "display_name": "Python 3",
   "language": "python",
   "name": "python3"
  },
  "language_info": {
   "codemirror_mode": {
    "name": "ipython",
    "version": 3
   },
   "file_extension": ".py",
   "mimetype": "text/x-python",
   "name": "python",
   "nbconvert_exporter": "python",
   "pygments_lexer": "ipython3",
   "version": "3.7.0"
  }
 },
 "nbformat": 4,
 "nbformat_minor": 2
}