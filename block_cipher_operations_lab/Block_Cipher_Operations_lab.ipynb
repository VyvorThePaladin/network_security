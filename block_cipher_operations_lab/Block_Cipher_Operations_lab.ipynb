{
 "cells": [
  {
   "cell_type": "code",
   "execution_count": 1,
   "metadata": {},
   "outputs": [],
   "source": [
    "import sys\n",
    "from test_block_cipher_operation import *"
   ]
  },
  {
   "cell_type": "markdown",
   "metadata": {},
   "source": [
    "# Block Cipher Operation\n",
    "Because of its vulnerability to brute-force attack, DES, once the most widely used symmetric cipher, has been largely replaced by stronger encryption schemes. Two approaches have been taken. One approach is to design a completely new algorithm that is resistant to both cryptanalytic and brute-force attacks, of which AES is a prime example. Another alternative, which preserves the existing investment in software and equipment, is to use multiple encryption with DES and multiple keys."
   ]
  },
  {
   "cell_type": "markdown",
   "metadata": {},
   "source": [
    "## Double Key Encryption\n",
    "The simplest form of multiple encryption has two encryption stages and two keys as shown below:\n",
    "\n",
    "<img src='bco_images/double_key.png'>\n",
    "\n",
    "\n",
    "Given a plaintext $P$ and two encryption keys $K_1$  and $K_2$ , ciphertext $C$ is generated as\n",
    "\n",
    "$C =  E(K_2 , E(K_1 , P ))$\n",
    "\n",
    "Decryption requires that the keys be applied in reverse order:\n",
    "\n",
    "$P =  D(K_1 , D(K_2 , C ))$\n",
    "\n",
    "For DES, this scheme apparently involves a key length of `56 *  2 =  112` bits, resulting in a dramatic increase in cryptographic strength. But we need to examine the algorithm more closely.\n",
    "\n",
    "**Exercise**: Implement `double_key()` to perform double key encryption. Assume `keys` is a dictionary where keys correspond to the key title (e.g., K1, K2) and value is the key value."
   ]
  },
  {
   "cell_type": "code",
   "execution_count": 2,
   "metadata": {},
   "outputs": [],
   "source": [
    "def double_key(input_block, keys, mode='E'):\n",
    "    \n",
    "    \n",
    "    pass\n",
    "    \n",
    "    return output_block\n",
    "    \n",
    "    "
   ]
  },
  {
   "cell_type": "code",
   "execution_count": 4,
   "metadata": {},
   "outputs": [
    {
     "name": "stdout",
     "output_type": "stream",
     "text": [
      "Sanity Check (double_key):  True\n"
     ]
    }
   ],
   "source": [
    "print('Sanity Check (double_key): ', test_double_key(double_key))"
   ]
  },
  {
   "cell_type": "markdown",
   "metadata": {},
   "source": [
    "## Triple Encryption\n",
    "3DES with two keys is a relatively popular alternative to DES and has beenadopted for use in the key management standards ANSI X9.17 and ISO 8732.1.\n",
    "\n",
    "<img src='bco_images/triple_encrypt.png' width=50%>\n",
    "\n",
    "Many researchers now feel that three-key 3DES is the preferred alternative (rather than two keys). Three-key 3DES has an effective key length of 168 bits and is defined as\n",
    "\n",
    "$C = E( K_3, D( K_2, E( K_1,  P)))$\n",
    "\n",
    "Backward compatibility with DES is provided by putting\n",
    "\n",
    "$K_3 = K_2$ or $K_1 = K_2$\n",
    "\n",
    "A number of Internet-based applications have adopted three-key 3DES, including PGP and S/MIME.\n",
    "\n",
    "**Exercise:** Implement `triple_cipher()` to perform triple encryption and decryption."
   ]
  },
  {
   "cell_type": "code",
   "execution_count": 5,
   "metadata": {},
   "outputs": [],
   "source": [
    "def triple_cipher(input_block, keys, mode='E'):\n",
    "    \n",
    "    if mode == 'E':\n",
    "        # implement encryption side\n",
    "    elif mode == 'D':\n",
    "        # implmenet decryption side\n",
    "        \n",
    "    return output_block\n",
    "        \n",
    "        "
   ]
  },
  {
   "cell_type": "code",
   "execution_count": 6,
   "metadata": {},
   "outputs": [
    {
     "name": "stdout",
     "output_type": "stream",
     "text": [
      "Sanity Check (triple_cipher):  True\n"
     ]
    }
   ],
   "source": [
    "print('Sanity Check (triple_cipher): ', test_triple_cipher(triple_cipher))"
   ]
  },
  {
   "cell_type": "markdown",
   "metadata": {},
   "source": [
    "## Modes of Operation\n",
    "A block cipher takes a fixed-length block of text of length $b$  bits and a key as input and produces a `b-bit` block of ciphertext. If the amount of plaintext to be encrypted is greater than $b$ bits, then the block cipher can still be used by breaking the plaintext up into `b-bit` blocks. When multiple blocks of plaintext are encrypted using the same key, a number of security issues arise. \n",
    "\n",
    "To apply a block cipher in a variety of applications, five modes of operation  have been defined by NIST (SP 800-38A). In essence, a mode of operation is a technique for enhancing the effect of a cryptographic algorithm or adapting the algorithm for an application, such as applying a block cipher to a sequence of data blocks or a data stream. The five modes are intended to cover a wide variety of applications of encryption for which a block cipher could be used. These modes are intended for use with any symmetric block cipher, including triple DES and AES.\n",
    "\n",
    "<img src='bco_images\\mode_of_operation.png' width=50%>"
   ]
  },
  {
   "cell_type": "markdown",
   "metadata": {},
   "source": [
    "## Electronic codebook  (ECB ) mode\n",
    "\n",
    "The simplest mode is the electronic codebook  (ECB ) mode, in which plaintext is handled one block at a time and each block of plaintext is encrypted using the same key (Figure 7.3). The term codebook  is used because, for a given key, there is a unique ciphertext for every `b-bit` block of plaintext. Therefore, we can imagine a gigantic codebook in which there is an entry for every possible `b-bit` plaintext pattern showing its corresponding ciphertext.\n",
    "\n",
    "<img src='bco_images/ecb_mode.png'>\n",
    "\n",
    "For a message longer than $b$ bits, the procedure is simply to break the message into b-bit blocks, padding the last block if necessary. Decryption is performed one block at a time, always using the same key. In the above Figure, the plaintext (padded as necessary) consists of a sequence of `b-bit` blocks, $P_1, P_2, \\cdots, P_N$; the corresponding\n",
    "sequence of ciphertext blocks is $C_1 , C_2 , \\cdots , C_N$ . We can define ECB mode as follows.\n",
    "\n",
    "$C_j = E(K, P_j)$ for $j = 1, . . . , N$\n",
    "\n",
    "$P_j = D(K, C_j)$ for  $j = 1, . . . , N$\n",
    "\n",
    "**Exercise:** Implement `ecb_mode()` to perform ecb mode encryption and decryption. Use `triple_cipher()` as the encryption and decryption algorithms."
   ]
  },
  {
   "cell_type": "code",
   "execution_count": 7,
   "metadata": {},
   "outputs": [],
   "source": [
    "def ecb_mode(input_blocks, keys, cipher, mode):\n",
    "    \n",
    "    output_blocks = []\n",
    "    \n",
    "    # implement ecb_mode\n",
    "    \n",
    "    return output_blocks\n",
    "    "
   ]
  },
  {
   "cell_type": "code",
   "execution_count": 8,
   "metadata": {},
   "outputs": [
    {
     "name": "stdout",
     "output_type": "stream",
     "text": [
      "Sanity Check (ecb_mode):  True\n"
     ]
    }
   ],
   "source": [
    "print('Sanity Check (ecb_mode): ', test_ecb_mode(ecb_mode, triple_cipher))"
   ]
  },
  {
   "cell_type": "markdown",
   "metadata": {},
   "source": [
    "## Criteria for selecting mode of operation\n",
    "\n",
    "We now turn to more complex modes of operation. The following criteria and properties are considered for evaluating and constructing block cipher modes of operation that are superior to ECB:\n",
    "\n",
    "- **Overhead**:  The additional operations for the encryption and decryption operation when compared to encrypting and decrypting in the ECB mode.\n",
    "\n",
    "- **Error recovery**:  The property that an error in the i th ciphertext block is inherited by only a few plaintext blocks after which the mode resynchronizes.\n",
    "\n",
    "- **Error propagation**:  The property that an error in the i th ciphertext block is inherited by the i th and all subsequent plaintext blocks. What is meant here is a bit error that occurs in the transmission of a ciphertext block, not a computational error in the encryption of a plaintext block.\n",
    "\n",
    "- **Diffusion**:  How the plaintext statistics are reflected in the ciphertext. Low entropy plaintext blocks should not be reflected in the ciphertext blocks. Roughly, low entropy equates to predictability or lack of randomness (see Appendix F).\n",
    "\n",
    "- **Security**:  Whether or not the ciphertext blocks leak information about the plaintext blocks."
   ]
  },
  {
   "cell_type": "markdown",
   "metadata": {},
   "source": [
    "## Cipher block chaining  (CBC )\n",
    "To overcome the security deficiencies of ECB, we would like a technique in which the same plaintext block, if repeated, produces different ciphertext blocks. A simple way to satisfy this requirement is the cipher block chaining  (CBC ) mode shown in the following figure. \n",
    "\n",
    "\n",
    "<img src='bco_images/cbc_mode.png'>\n",
    "\n",
    "In this scheme, the input to the encryption algorithm is the XOR of the current plaintext block and the preceding ciphertext block; the same key is used for each block. In effect, we have chained together the processing of the sequence of plaintext blocks. The input to the encryption function for each plaintext block bears no fixed relationship to the plaintext block. Therefore, repeating patterns of $b$ bits are not exposed. As with the ECB mode, the CBC mode requires that the last block be padded to a full $b$  bits if it is a partial block.\n",
    "\n",
    "For decryption, each cipher block is passed through the decryption algorithm. The result is XORed with the preceding ciphertext block to produce the plaintext block.\n",
    "\n",
    "\n",
    "To produce the first block of ciphertext, an initialization vector (IV) is XORed with the first block of plaintext. On decryption, the IV is XORed with the output of the decryption algorithm to recover the first block of plaintext. The IV is a data block that is the same size as the cipher block.\n",
    "\n",
    "The IV must be known to both the sender and receiver but be unpredictable by a third party. In particular, for any given plaintext, it must not be possible to predict the IV that will be associated to the plaintext in advance of the generation of the IV. For maximum security, the IV should be protected against unauthorized changes. This could be done by sending the IV using ECB encryption. One reason for protecting the IV is as follows: If an opponent is able to fool the receiver into using a different value for IV, then the opponent is able to invert selected bits in the first block of plaintext. So long as it is unpredictable, the specific choice of IV is unimportant.\n",
    "\n",
    "\n",
    "SP800-38A recommends two possible methods: The first method is to apply the encryption function, under the same key that is used for the encryption of the plaintext, to a nonce . The nonce must be a data block that is unique to each execution of the encryption operation. For example, the nonce may be a counter, a timestamp, or a message number. The second method is to generate a random data block using a random number generator.\n",
    "\n",
    "In conclusion, because of the chaining mechanism of CBC, it is an appropriate mode for encrypting messages of length greater than b  bits. In addition to its use to achieve confidentiality, the CBC mode can be used for\n",
    "authentication. \n",
    "\n",
    "**Exercise**: Implement `cbc_mode_unit()` to perform encryption and decryption for each stage of the CBC mode. The keys dictionary also includes `IV` key that holds the value of the initial vector. Use `triple_cipher()` as the cipher algorithm. "
   ]
  },
  {
   "cell_type": "code",
   "execution_count": 9,
   "metadata": {},
   "outputs": [],
   "source": [
    "def cbc_mode_unit(input_block, keys, cipher, mode):\n",
    "    \n",
    "    if mode == 'E':\n",
    "        \n",
    "        # implement encryption side \n",
    "        pass\n",
    "    \n",
    "    elif mode == 'D':\n",
    "        \n",
    "        # implement decryption side\n",
    "        pass\n",
    "    \n",
    "    return output_block\n",
    "    "
   ]
  },
  {
   "cell_type": "code",
   "execution_count": 10,
   "metadata": {},
   "outputs": [
    {
     "name": "stdout",
     "output_type": "stream",
     "text": [
      "Sanity Check (cbc_mode_unit):  True\n"
     ]
    }
   ],
   "source": [
    "print('Sanity Check (cbc_mode_unit): ', test_cbc_mode_unit(cbc_mode_unit, triple_cipher))"
   ]
  },
  {
   "cell_type": "markdown",
   "metadata": {},
   "source": [
    "**Exercise:** Implement cbc_mode() to perform encryption and decryption for a series of packets in a CBC mode. Use `cbc_mode_unit()` for the unit operations."
   ]
  },
  {
   "cell_type": "code",
   "execution_count": 11,
   "metadata": {},
   "outputs": [],
   "source": [
    "def cbc_mode(input_blocks, keys, cipher, mode):\n",
    "    \n",
    "    output_blocks = []\n",
    "    \n",
    "    # implement CBC mode\n",
    "    \n",
    "    return output_blocks"
   ]
  },
  {
   "cell_type": "code",
   "execution_count": 12,
   "metadata": {},
   "outputs": [
    {
     "name": "stdout",
     "output_type": "stream",
     "text": [
      "Sanity Check (cbc_mode):  True\n"
     ]
    }
   ],
   "source": [
    "print('Sanity Check (cbc_mode): ', test_cbc_mode(cbc_mode, triple_cipher))"
   ]
  },
  {
   "cell_type": "markdown",
   "metadata": {},
   "source": [
    "### Grade\n",
    "Run the following cell to calculate your grade."
   ]
  },
  {
   "cell_type": "code",
   "execution_count": 13,
   "metadata": {},
   "outputs": [
    {
     "name": "stdout",
     "output_type": "stream",
     "text": [
      "+-------+---------------+--------+-------+\n",
      "| Index | Exercise      | Passed | Grade |\n",
      "+-------+---------------+--------+-------+\n",
      "| 0     | cbc_mode      | True   | 10    |\n",
      "| 1     | cbc_mode_unit | True   | 10    |\n",
      "| 2     | double_key    | True   | 10    |\n",
      "| 3     | ecb_mode      | True   | 10    |\n",
      "| 4     | triple_cipher | True   | 10    |\n",
      "+-------+---------------+--------+-------+\n",
      "Exam Grade: 100.00\n"
     ]
    }
   ],
   "source": [
    "exercise_functions = get_module_functions(sys.modules[__name__])\n",
    "evaluate(exercise_functions)"
   ]
  }
 ],
 "metadata": {
  "kernelspec": {
   "display_name": "Python 3",
   "language": "python",
   "name": "python3"
  },
  "language_info": {
   "codemirror_mode": {
    "name": "ipython",
    "version": 3
   },
   "file_extension": ".py",
   "mimetype": "text/x-python",
   "name": "python",
   "nbconvert_exporter": "python",
   "pygments_lexer": "ipython3",
   "version": "3.7.0"
  }
 },
 "nbformat": 4,
 "nbformat_minor": 2
}