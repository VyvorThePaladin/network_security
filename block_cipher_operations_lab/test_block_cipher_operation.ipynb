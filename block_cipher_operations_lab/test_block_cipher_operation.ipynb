{
 "cells": [
  {
   "cell_type": "code",
   "execution_count": null,
   "metadata": {},
   "outputs": [],
   "source": [
    "from bitstring import BitArray\n",
    "import inspect, sys\n",
    "from terminaltables import AsciiTable"
   ]
  },
  {
   "cell_type": "code",
   "execution_count": null,
   "metadata": {},
   "outputs": [],
   "source": [
    "def test_double_key(double_key):\n",
    "    input_block = BitArray('0b0100000111111010010101100001010101111011111001100100111011001011')\n",
    "    K1 = BitArray('0b0111010101101111110011100110110111110100000110010001000001000000')\n",
    "    K2 = BitArray('0b1001111100100111000110001011111101000101011100010000110110001111')\n",
    "    keys = {'K1': K1, 'K2': K2}\n",
    "    cipher_block = double_key(input_block, keys, mode='E')\n",
    "    decoded_block = double_key(cipher_block, keys, mode='D')\n",
    "    return input_block == decoded_block"
   ]
  },
  {
   "cell_type": "code",
   "execution_count": null,
   "metadata": {},
   "outputs": [],
   "source": [
    "def test_triple_cipher(triple_cipher):\n",
    "    input_block = BitArray('0b0100000111111010010101100001010101111011111001100100111011001011')\n",
    "    K1 = BitArray('0b0111010101101111110011100110110111110100000110010001000001000000')\n",
    "    K2 = BitArray('0b1001111100100111000110001011111101000101011100010000110110001111')\n",
    "    K3 = BitArray('0b1111011000010111010001010110100010110001000010100110110011110000')\n",
    "    keys = {'K1': K1, 'K2': K2, 'K3': K3}\n",
    "    cipher_block = triple_cipher(input_block, keys, mode='E')\n",
    "    decoded_block = triple_cipher(cipher_block, keys, mode='D')\n",
    "    return input_block == decoded_block"
   ]
  },
  {
   "cell_type": "code",
   "execution_count": null,
   "metadata": {},
   "outputs": [],
   "source": [
    "def test_ecb_mode(ecb_mode, triple_cipher):\n",
    "    input_blocks = []\n",
    "    input_blocks.append(BitArray('0b0100000111111010010101100001010101111011111001100100111011001011'))\n",
    "    input_blocks.append(BitArray('0b0100000100011010010001001001111001010000000111100011101010101011'))\n",
    "    input_blocks.append(BitArray('0b1001111101110000111100001001101011011001001010100100010110011011'))\n",
    "    input_blocks.append(BitArray('0b0000110111100101100110111000011101011101110101000011111111001000'))\n",
    "    input_blocks.append(BitArray('0b0010000010010101110001001111010001111101100001110100110011110010'))\n",
    "    input_blocks.append(BitArray('0b0110100111100000011011010100101010111111100011100011011111010001'))\n",
    "\n",
    "    K1 = BitArray('0b0111010101101111110011100110110111110100000110010001000001000000')\n",
    "    K2 = BitArray('0b1001111100100111000110001011111101000101011100010000110110001111')\n",
    "    K3 = BitArray('0b1111011000010111010001010110100010110001000010100110110011110000')\n",
    "    keys = {'K1': K1, 'K2': K2, 'K3': K3}\n",
    "    cipher_blocks = ecb_mode(input_blocks, keys, cipher=triple_cipher, mode='E')\n",
    "    decoded_blocks = ecb_mode(cipher_blocks, keys, cipher=triple_cipher, mode='D')\n",
    "    counter = 0\n",
    "    for input_block, decoded_block in zip(input_blocks, decoded_blocks):\n",
    "        if input_block == decoded_block:\n",
    "            counter +=1\n",
    "    return counter == len(input_blocks)\n",
    "        "
   ]
  },
  {
   "cell_type": "code",
   "execution_count": null,
   "metadata": {},
   "outputs": [],
   "source": [
    "def test_cbc_mode_unit(cbc_mode_unit, triple_cipher):\n",
    "    input_block = BitArray('0b0100000111111010010101100001010101111011111001100100111011001011')\n",
    "    K1 = BitArray('0b0111010101101111110011100110110111110100000110010001000001000000')\n",
    "    K2 = BitArray('0b1001111100100111000110001011111101000101011100010000110110001111')\n",
    "    K3 = BitArray('0b1111011000010111010001010110100010110001000010100110110011110000')\n",
    "    IV = BitArray('0b0111001100100001101001001110110101110011101010001100000111111011')\n",
    "    keys = {'K1': K1, 'K2': K2, 'K3': K3, 'IV': IV}\n",
    "    cipher_block = cbc_mode_unit(input_block, keys, cipher=triple_cipher, mode='E')\n",
    "    decoded_block = cbc_mode_unit(cipher_block, keys, cipher=triple_cipher, mode='D')\n",
    "    return input_block == decoded_block"
   ]
  },
  {
   "cell_type": "code",
   "execution_count": null,
   "metadata": {},
   "outputs": [],
   "source": [
    "def test_cbc_mode(cbc_mode, triple_cipher):\n",
    "    input_blocks = []\n",
    "    input_blocks.append(BitArray('0b0100000111111010010101100001010101111011111001100100111011001011'))\n",
    "    input_blocks.append(BitArray('0b0100000100011010010001001001111001010000000111100011101010101011'))\n",
    "    input_blocks.append(BitArray('0b1001111101110000111100001001101011011001001010100100010110011011'))\n",
    "    input_blocks.append(BitArray('0b0000110111100101100110111000011101011101110101000011111111001000'))\n",
    "    input_blocks.append(BitArray('0b0010000010010101110001001111010001111101100001110100110011110010'))\n",
    "    input_blocks.append(BitArray('0b0110100111100000011011010100101010111111100011100011011111010001'))\n",
    "\n",
    "    K1 = BitArray('0b0111010101101111110011100110110111110100000110010001000001000000')\n",
    "    K2 = BitArray('0b1001111100100111000110001011111101000101011100010000110110001111')\n",
    "    K3 = BitArray('0b1111011000010111010001010110100010110001000010100110110011110000')\n",
    "    IV = BitArray('0b0111001100100001101001001110110101110011101010001100000111111011')\n",
    "    keys = {'K1': K1, 'K2': K2, 'K3': K3, 'IV': IV}\n",
    "\n",
    "    cipher_blocks = cbc_mode(input_blocks, keys, cipher=triple_cipher, mode='E')\n",
    "    keys = {'K1': K1, 'K2': K2, 'K3': K3, 'IV': IV}\n",
    "    decoded_blocks = cbc_mode(cipher_blocks, keys, cipher=triple_cipher, mode='D')\n",
    "    counter = 0\n",
    "    for input_block, decoded_block in zip(input_blocks, decoded_blocks):\n",
    "        if input_block == decoded_block:\n",
    "            counter +=1\n",
    "\n",
    "    return counter == len(input_blocks)"
   ]
  },
  {
   "cell_type": "code",
   "execution_count": null,
   "metadata": {},
   "outputs": [],
   "source": [
    "def get_module_functions(module):\n",
    "    ret = {}\n",
    "    for name,obj in inspect.getmembers(module):\n",
    "        if (inspect.isfunction(obj) and not name.startswith('test')):\n",
    "            ret[name] = obj\n",
    "    return ret"
   ]
  },
  {
   "cell_type": "code",
   "execution_count": null,
   "metadata": {},
   "outputs": [],
   "source": [
    "def evaluate(exercise_functions):\n",
    "    test_functions = {}\n",
    "    for name,obj in inspect.getmembers(sys.modules[__name__]):\n",
    "        if (inspect.isfunction(obj) and name.startswith('test')):\n",
    "            test_functions[name] = obj\n",
    "    \n",
    "    grade_summary = [\n",
    "        ['Index','Exercise', 'Passed', 'Grade']]\n",
    "    exam_grade = 0\n",
    "    for index,fun in enumerate(test_functions.keys()):\n",
    "        fun_sig = inspect.signature(eval(fun))\n",
    "        evaluate_args = []\n",
    "        for fun_arg in fun_sig.parameters:\n",
    "            evaluate_args.append(exercise_functions[fun_arg])\n",
    "            \n",
    "        try:\n",
    "            flag = test_functions[fun](*tuple(evaluate_args))\n",
    "        except:\n",
    "            flag = 0\n",
    "            \n",
    "        grade_summary.append([str(index), fun.replace('test_',''), str(flag), str(flag * 10)])\n",
    "        exam_grade += int(flag * 10)\n",
    "  \n",
    "    grade_table = AsciiTable(grade_summary)\n",
    "    print(grade_table.table)\n",
    "    print(\"Exam Grade: {0:.2f}\".format((exam_grade/(len(test_functions) * 10)) * 100))\n",
    "    "
   ]
  }
 ],
 "metadata": {
  "kernelspec": {
   "display_name": "Python 3",
   "language": "python",
   "name": "python3"
  },
  "language_info": {
   "codemirror_mode": {
    "name": "ipython",
    "version": 3
   },
   "file_extension": ".py",
   "mimetype": "text/x-python",
   "name": "python",
   "nbconvert_exporter": "python",
   "pygments_lexer": "ipython3",
   "version": "3.7.0"
  }
 },
 "nbformat": 4,
 "nbformat_minor": 2
}
