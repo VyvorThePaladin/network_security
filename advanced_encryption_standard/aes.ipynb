{
 "cells": [
  {
   "cell_type": "code",
   "execution_count": 1,
   "metadata": {},
   "outputs": [],
   "source": [
    "from test_aes import *"
   ]
  },
  {
   "cell_type": "markdown",
   "metadata": {},
   "source": [
    "# AES Cipher\n",
    "\n",
    "The following Figure shows the AES cipher in more detail, indicating the sequence of transformations in each round and showing the corresponding decryption function. In this notebook, we are going to implement AES cipher which performs encryption and decryption.\n",
    "\n",
    "<img src='aes_images/aes.png' width=50%>\n",
    "\n",
    "\n",
    "Notice that\n",
    "\n",
    "- The first $N - 1$ rounds consist of four distinct transformation functions: SubBytes, ShiftRows, MixColumns, and AddRoundKey. \n",
    "- The final round contains only three transformations, \n",
    "\n",
    "\n"
   ]
  },
  {
   "cell_type": "markdown",
   "metadata": {},
   "source": [
    "## Import AES Round API\n",
    "\n",
    "**Exercise:** We have implement the AES round procedure in `AES_round_function` notebook for homework. Do the following procedure:\n",
    "1. Backup your original `AES_round_function.ipynb`.\n",
    "2. Remove `from test_AES import *` and all sanity checks and grade calculation cells from  `AES_round_function.ipynb` and save the notebook.\n",
    "3. Download the `AES_round_function.ipynb` as `aes_round_api.py`\n",
    "4. Import `aes_round_enc`, `aes_round_dec` and `add_round_key` from `aes_round_api`\n"
   ]
  },
  {
   "cell_type": "code",
   "execution_count": 2,
   "metadata": {},
   "outputs": [],
   "source": [
    "# Import aes_round_enc and aes_round_dec from aes_round_api\n",
    "from aes_round_api import aes_round_enc, aes_round_dec, add_round_key"
   ]
  },
  {
   "cell_type": "markdown",
   "metadata": {},
   "source": [
    "## Import Key Expansion API\n",
    "\n",
    "**Exercise:** We have implement the AES key expansion in `aes_key_expansion` notebook for homework. Do the following procedure:\n",
    "1. Backup your original `aes_key_expansion.ipynb`.\n",
    "2. Remove `from test_aes_key_expansion import *` and all sanity checks and grade calculation cells from  `aes_key_expansion.ipynb` and save the notebook.\n",
    "3. Download the `aes_key_expansion.ipynb` as `aes_key_api.py`\n",
    "4. Import `expand_key_128`, `expand_key_192` and `expand_key_256` from `aes_key_api`\n",
    "\n"
   ]
  },
  {
   "cell_type": "code",
   "execution_count": 3,
   "metadata": {},
   "outputs": [],
   "source": [
    "# Import expand_key_128, expand_key_192 and expand_key_256 from aes_key_api\n",
    "from aes_key_api import expand_key_128, expand_key_192, expand_key_256"
   ]
  },
  {
   "cell_type": "markdown",
   "metadata": {},
   "source": [
    "## Implement AES Cipher\n",
    "\n",
    "**Exercise:** Implement `aes_cipher(input_block, initial_key, mode)` to perform AES encryption and decryption for different key length where:\n",
    "\n",
    "- `input_block` represent `Plaintext` when `mode` is encryption 'E' and `Ciphertext` when `mode` is decryption 'D'\n",
    "- `initial_key` represent the key.\n",
    "\n",
    "The cipher consists of $N$ rounds, where the number of rounds depends on the key length: 10 rounds for a 16-byte key, 12 rounds for a 24-byte key, and 14 rounds for a 32-byte key as listed below:\n",
    "\n",
    "<img src='aes_images/aes_table.png' width=50%>\n",
    "\n",
    "To implement `aes_cipher()`:\n",
    "\n",
    "- Use `aes_round_enc` and `aes_round_dec` for encyption and decryption round operation.\n",
    "- Use `expand_key_128`, `expand_key_192`, and `expand_key_256` to expand key for different key length.\n",
    "- Notice that there is a initial single transformation (AddRoundKey) before the first round, which can be considered Round 0 (see figure 6.3). Use `add_round_key` for this step. "
   ]
  },
  {
   "cell_type": "code",
   "execution_count": 4,
   "metadata": {},
   "outputs": [],
   "source": [
    "def aes_cipher(input_block, initial_key, mode):\n",
    "    \n",
    "    # verify mode should be either 'E' or 'D' using assert statement\n",
    "    assert mode == 'E' or mode == 'D'\n",
    "    \n",
    "    # verify that key has a valid length (according to the table above) using assert statement and \n",
    "    # perform key expansion based on the initial_key \n",
    "    assert len(initial_key) == 16 or len(initial_key) == 24 or len(initial_key) == 32\n",
    "\n",
    "    if len(initial_key) == 16:\n",
    "        expanded_key = expand_key_128(initial_key)\n",
    "    elif len(initial_key) == 24:\n",
    "        expanded_key = expand_key_192(initial_key)\n",
    "    else:\n",
    "        expanded_key = expand_key_256(initial_key) \n",
    "        \n",
    "    # verify that the inputblock has a valid length using assert statement and\n",
    "    # perform aes encryption and decryption based on the mode ('E' or 'D')\n",
    "    # Notice that there is a initial single transformation (AddRoundKey)\n",
    "    # before the first round, which can be considered Round 0 \n",
    "    assert len(input_block) == 16\n",
    "\n",
    "    round_0 = add_round_key(input_block, expanded_key)\n",
    "\n",
    "    if mode == 'E':\n",
    "        if len(initial_key) == 16:\n",
    "            for _ in range(9):\n",
    "                output_block = aes_round_enc(round_0, expanded_key)\n",
    "\n",
    "        if len(initial_key) == 24:\n",
    "            for _ in range(11):\n",
    "                output_block = aes_round_enc(round_0, expanded_key)\n",
    "\n",
    "        if len(initial_key) == 32:\n",
    "            for _ in range(13):\n",
    "                output_block = aes_round_enc(round_0, expanded_key)\n",
    "        output_block = aes_round_enc(round_0, expanded_key, True)\n",
    "\n",
    "\n",
    "    if mode == 'D':\n",
    "        if len(initial_key) == 16:\n",
    "            for _ in range(9):\n",
    "                output_block = aes_round_dec(round_0, expanded_key)\n",
    "\n",
    "        if len(initial_key) == 24:\n",
    "            for _ in range(11):\n",
    "                output_block = aes_round_dec(round_0, expanded_key)\n",
    "\n",
    "        if len(initial_key) == 32:\n",
    "            for _ in range(13):\n",
    "                output_block = aes_round_dec(round_0, expanded_key)   \n",
    "        output_block = aes_round_dec(round_0, expanded_key, True) \n",
    "                \n",
    "    return output_block"
   ]
  },
  {
   "cell_type": "markdown",
   "metadata": {},
   "source": [
    "### Grade\n",
    "Run the following cell to calculate your grade."
   ]
  },
  {
   "cell_type": "code",
   "execution_count": 5,
   "metadata": {
    "scrolled": false
   },
   "outputs": [
    {
     "name": "stdout",
     "output_type": "stream",
     "text": [
      "+-------+----------+--------+-------+\n",
      "| Index | Exercise | Passed | Grade |\n",
      "+-------+----------+--------+-------+\n",
      "| 0     | aes_128  | True   | 10    |\n",
      "| 1     | aes_192  | True   | 10    |\n",
      "| 2     | aes_256  | True   | 10    |\n",
      "| 3     | key_size | True   | 10    |\n",
      "| 4     | mode     | True   | 10    |\n",
      "+-------+----------+--------+-------+\n",
      "Grade: 100.00\n"
     ]
    }
   ],
   "source": [
    "exercise_functions = get_module_functions(sys.modules[__name__])\n",
    "evaluate(exercise_functions)"
   ]
  }
 ],
 "metadata": {
  "kernelspec": {
   "display_name": "Python 3",
   "language": "python",
   "name": "python3"
  },
  "language_info": {
   "codemirror_mode": {
    "name": "ipython",
    "version": 3
   },
   "file_extension": ".py",
   "mimetype": "text/x-python",
   "name": "python",
   "nbconvert_exporter": "python",
   "pygments_lexer": "ipython3",
   "version": "3.7.0"
  }
 },
 "nbformat": 4,
 "nbformat_minor": 2
}
