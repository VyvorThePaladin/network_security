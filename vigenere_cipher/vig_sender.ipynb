{
 "cells": [
  {
   "cell_type": "code",
   "execution_count": null,
   "metadata": {},
   "outputs": [],
   "source": [
    "import socket\n",
    "import time"
   ]
  },
  {
   "cell_type": "code",
   "execution_count": null,
   "metadata": {},
   "outputs": [],
   "source": [
    "# take a str of all ltrs\n",
    "LTR_LIST = 'ABCDEFGHIJKLMNOPQRSTUVWXYZ'"
   ]
  },
  {
   "cell_type": "code",
   "execution_count": null,
   "metadata": {},
   "outputs": [],
   "source": [
    "print('ENTER KEY(more secure if longer):')\n",
    "key = input()  # should accept only alpha\n",
    "if not key.isalpha():\n",
    "    print('ALPHABETS ONLY!')\n",
    "    exit()"
   ]
  },
  {
   "cell_type": "code",
   "execution_count": null,
   "metadata": {},
   "outputs": [],
   "source": [
    "# open file in write mode to accept some input\n",
    "f_write = open('input.txt', 'w')\n",
    "print('ENTER SOME TEXT: ')\n",
    "time.sleep(10)\n",
    "f_write.write(input())\n",
    "f_write.close()"
   ]
  },
  {
   "cell_type": "code",
   "execution_count": null,
   "metadata": {},
   "outputs": [],
   "source": [
    "# open file in read mode and dump char by char in a str\n",
    "f_read = open('input.txt')\n",
    "plain_text = ''\n",
    "for chr in f_read.read():\n",
    "    plain_text += chr\n",
    "f_read.close()"
   ]
  },
  {
   "cell_type": "code",
   "execution_count": null,
   "metadata": {},
   "outputs": [],
   "source": [
    "# main encrypting func\n",
    "def encryptText(key, msg):\n",
    "    msg_str = []  # this a char array, not a str\n",
    "\n",
    "    keyIndex = 0\n",
    "    key = key.upper()\n",
    "\n",
    "    for char in msg:\n",
    "        num = LTR_LIST.find(char.upper())  # find index of char from LTR_LIST\n",
    "\n",
    "        if num != -1:  # if char is spl it'll be false\n",
    "            num += LTR_LIST.find(key[keyIndex])  # add the key index val\n",
    "\n",
    "            num %= len(LTR_LIST)  # to wrap the text around\n",
    "\n",
    "            if char.isupper():\n",
    "                msg_str.append(LTR_LIST[num])\n",
    "            elif char.islower():\n",
    "                msg_str.append(LTR_LIST[num].lower())\n",
    "\n",
    "            keyIndex += 1\n",
    "\n",
    "            if keyIndex == len(key):\n",
    "                keyIndex = 0\n",
    "\n",
    "        else:\n",
    "            msg_str.append(char)  # cause it's a spl char\n",
    "\n",
    "    return msg_str"
   ]
  },
  {
   "cell_type": "code",
   "execution_count": null,
   "metadata": {},
   "outputs": [],
   "source": [
    "def udp_send(encrypted_text):\n",
    "    sock = socket.socket(socket.AF_INET, socket.SOCK_DGRAM)\n",
    "    UDP_IP = '10.28.123.114'\n",
    "    UDP_PORT = 22000\n",
    "\n",
    "    sock.sendto(encrypted_text.encode(), (UDP_IP, UDP_PORT))"
   ]
  },
  {
   "cell_type": "code",
   "execution_count": null,
   "metadata": {},
   "outputs": [],
   "source": [
    "str1 = ''.join(encryptText(key, plain_text))  # conv encrypted char arr to str\n",
    "\n",
    "udp_send(str1)"
   ]
  }
 ],
 "metadata": {
  "kernelspec": {
   "display_name": "Python 3",
   "language": "python",
   "name": "python3"
  },
  "language_info": {
   "codemirror_mode": {
    "name": "ipython",
    "version": 3
   },
   "file_extension": ".py",
   "mimetype": "text/x-python",
   "name": "python",
   "nbconvert_exporter": "python",
   "pygments_lexer": "ipython3",
   "version": "3.6.5"
  }
 },
 "nbformat": 4,
 "nbformat_minor": 2
}
