{
 "cells": [
  {
   "cell_type": "code",
   "execution_count": null,
   "metadata": {},
   "outputs": [],
   "source": [
    "import socket"
   ]
  },
  {
   "cell_type": "code",
   "execution_count": null,
   "metadata": {},
   "outputs": [],
   "source": [
    "# take a str of all ltrs\n",
    "LTR_LIST = 'ABCDEFGHIJKLMNOPQRSTUVWXYZ'"
   ]
  },
  {
   "cell_type": "code",
   "execution_count": null,
   "metadata": {},
   "outputs": [],
   "source": [
    "print('ENTER KEY TO DECRYPT:')\n",
    "key = input()  # should accept only alpha\n",
    "if not key.isalpha():\n",
    "    print('ALPHABETS ONLY!')\n",
    "    exit()"
   ]
  },
  {
   "cell_type": "code",
   "execution_count": null,
   "metadata": {},
   "outputs": [],
   "source": [
    "# main decrypting func, same logic as encrypt but subtract\n",
    "def decryptText(key, msg):\n",
    "    msg_str = []\n",
    "\n",
    "    keyIndex = 0\n",
    "    key = key.upper()\n",
    "\n",
    "    for char in msg:\n",
    "        num = LTR_LIST.find(char.upper())\n",
    "\n",
    "        if num != -1:\n",
    "            num -= LTR_LIST.find(key[keyIndex])\n",
    "\n",
    "            num %= len(LTR_LIST)\n",
    "\n",
    "            if char.isupper():\n",
    "                msg_str.append(LTR_LIST[num])\n",
    "            elif char.islower():\n",
    "                msg_str.append(LTR_LIST[num].lower())\n",
    "\n",
    "            keyIndex += 1\n",
    "\n",
    "            if keyIndex == len(key):\n",
    "                keyIndex = 0\n",
    "\n",
    "        else:\n",
    "            msg_str.append(char)\n",
    "\n",
    "    return msg_str"
   ]
  },
  {
   "cell_type": "code",
   "execution_count": null,
   "metadata": {},
   "outputs": [],
   "source": [
    "def udp_receive():\n",
    "    UDP_IP = '10.28.123.114'\n",
    "    UDP_PORT = 22000\n",
    "    sock = socket.socket(socket.AF_INET, socket.SOCK_DGRAM)\n",
    "    sock.bind((UDP_IP, UDP_PORT))\n",
    "\n",
    "    f_write = open('result.txt', 'w')\n",
    "\n",
    "    data, addr = sock.recvfrom(1024)\n",
    "    print(\"Encrypted Message:\", data.decode(), '\\n')\n",
    "    # result = decryptText(data.decode())\n",
    "    result = ''.join(decryptText(key, data.decode()))\n",
    "    print('Decrypted Message:', result)\n",
    "    f_write.write(result)"
   ]
  },
  {
   "cell_type": "code",
   "execution_count": null,
   "metadata": {},
   "outputs": [],
   "source": [
    "udp_receive()"
   ]
  }
 ],
 "metadata": {
  "kernelspec": {
   "display_name": "Python 3",
   "language": "python",
   "name": "python3"
  },
  "language_info": {
   "codemirror_mode": {
    "name": "ipython",
    "version": 3
   },
   "file_extension": ".py",
   "mimetype": "text/x-python",
   "name": "python",
   "nbconvert_exporter": "python",
   "pygments_lexer": "ipython3",
   "version": "3.6.5"
  }
 },
 "nbformat": 4,
 "nbformat_minor": 2
}
