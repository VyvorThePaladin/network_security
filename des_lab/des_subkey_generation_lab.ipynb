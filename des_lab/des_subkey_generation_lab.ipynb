{
 "cells": [
  {
   "cell_type": "markdown",
   "metadata": {},
   "source": [
    "#  DATA Encryption Standard (DES)\n",
    "\n",
    "\n",
    "DES is a symmetric encryption algorithm that means for encryption and decryption it uses the same secret key which is shared among sender and receiver. DES is also a block cipher i.e. it process the input plain-text block by block and 64-bit is used as block size by DES. DES working is based on Feistel Structure [ https://en.wikipedia.org/wiki/Feistel_cipher].\n",
    "\n",
    "## DES Subkey Generation\n",
    "\n",
    "Basically DES uses 16 round of similar operation on input plain text with the help of unique key in each round. The unique key in fact is sub-key generated through the initial 64-bit key. Each round perform a Feistel function on half of plaintext (32-bit) and the 48-bit round key. So, to understand DES, one must have to understand about key generation, Feistel function, DES round operation for encryption and decryption. Please refer to Chapter 4 for details."
   ]
  },
  {
   "cell_type": "markdown",
   "metadata": {},
   "source": [
    "## Parity Drop:\n",
    "\n",
    "The very first step of subkey generation is **parity drop** which is carried out by the help of a permutation table (explain later), so this step also known as permutation step. The permutation table has 56 number between 1–64 in a predefined order and do has 8,16,24,32,40,48,56 and 64 (these are parities bits). For the Python implementation, this table can be consider as a list object and it value will be used as index to select bit from the initial 64-bit key string. Thus the resulting string will have 56 bits according to the permutation table."
   ]
  },
  {
   "cell_type": "code",
   "execution_count": null,
   "metadata": {},
   "outputs": [],
   "source": [
    "def apply_PC1(pc1_table,keys_64bits):\n",
    "    '''This function takes Permutation table and \n",
    "    initial key as input and return 56 bits key as output\n",
    "    '''\n",
    "    # set an empty string for keys_56bits\n",
    "    keys_56bits = None\n",
    "    \n",
    "    # peform permutation\n",
    "    for index in None:\n",
    "        \n",
    "        # get the key value from permutation table \n",
    "        keys_56bits += None\n",
    "    \n",
    "    return keys_56bits\n"
   ]
  },
  {
   "cell_type": "code",
   "execution_count": null,
   "metadata": {},
   "outputs": [],
   "source": [
    "PC1 = [57,49,41,33,25,17,9,1,58,50,42,34,26,18,10,2,59,51,43,35,27,19,11,3,60,52,44,36,63,55,47,39,31,23,15,7,62,54,46,38,30,22,14,6,61,53,45,37,29,21,13,5,28,20,12,4]\n",
    "keys_64bits = \"0001001100110100010101110111100110011011101111001101111111110001\"\n",
    "keys_56bits = apply_PC1(PC1,keys_64bits)\n",
    "print(\"keys_56bits: \", keys_56bits)"
   ]
  },
  {
   "cell_type": "markdown",
   "metadata": {},
   "source": [
    "## Split Key in Half:\n",
    "\n",
    "After converting initial key into 56 bits by applying permutation table the next step is to split the 56 bits key into two half 28–28 bits in each. Both half is then process separately in all round to generate the all 16 sub keys. splitting can be done in many ways in Python the easiest is by use of string slice because we know the length or each half. So, for easy handling this will be also implemented as Python method."
   ]
  },
  {
   "cell_type": "code",
   "execution_count": null,
   "metadata": {},
   "outputs": [],
   "source": [
    "def split_in_half(keys_56bits):\n",
    "    '''Split the 56 bits key into two equal half'''\n",
    "    left_keys, right_keys = None\n",
    "    return left_keys, right_keys"
   ]
  },
  {
   "cell_type": "code",
   "execution_count": null,
   "metadata": {},
   "outputs": [],
   "source": [
    "left56 , right56 = split_in_half(keys_56bits)\n",
    "print('left: ', left56)\n",
    "print('right: ', right56)"
   ]
  },
  {
   "cell_type": "markdown",
   "metadata": {},
   "source": [
    "## Circular Left shift\n",
    "\n",
    "In every round of key generation, the both half is circularly left shifted and the number of bits for left shifting is round dependent as mentioned in Figure 4.5 (in round 1,2,9,16 each half is shifted 1 bit position and in the rest of rounds 2 bits are shifted to left in circular fashion. Currently, we will implement a circular left shift method which will take 28 bits, and number of shift position as input and return the circularly left shifted bits as output. Left shift can be achieved by bitwise operator but for the simplicity and easy understanding we will go with simple string slice method."
   ]
  },
  {
   "cell_type": "code",
   "execution_count": null,
   "metadata": {},
   "outputs": [],
   "source": [
    "def circular_left_shift(bits,numberofbits):\n",
    "    '''This method will circularly shift the given bit string according to the number of bits\n",
    "    '''\n",
    "    shiftedbits = None\n",
    "    return shiftedbits"
   ]
  },
  {
   "cell_type": "code",
   "execution_count": null,
   "metadata": {},
   "outputs": [],
   "source": [
    "numberofbits = 2\n",
    "bits = '011010'\n",
    "circularShiftedBits = circular_left_shift(bits,numberofbits)\n",
    "print('{0} - left circular shifted bits: {1}'.format(numberofbits,circularShiftedBits) )"
   ]
  },
  {
   "cell_type": "markdown",
   "metadata": {},
   "source": [
    "## Compression P box\n",
    "\n",
    "In each round the circular left shifted both half is passed to compression which utilized a compression table to compress 56 bits key to a 48 bits key. The output of compression is the final key of a particular round. Again, the compression P box can be implemented as Python list object and its value can be used to select bits from the key string."
   ]
  },
  {
   "cell_type": "code",
   "execution_count": null,
   "metadata": {},
   "outputs": [],
   "source": [
    "def apply_PC2(pc2_table,keys_56bits):\n",
    "    '''This will take Compression table and combined both half\n",
    "    as input and return a 48-bits string as output\n",
    "    '''\n",
    "    keys_48bits = None\n",
    "    for index in None:\n",
    "        keys_48bits += None\n",
    "    return keys_48bits"
   ]
  },
  {
   "cell_type": "code",
   "execution_count": null,
   "metadata": {},
   "outputs": [],
   "source": [
    "PC2 = [14,17,11,24,1,5,3,28,15,6,21,10,23,19,12,4,26,8,16,7,27,20,13,2, 41,52,31,37,47,55,30,40,51,45,33,48,44,49,39,56,34,53,46,42,50,36,29,32]\n",
    "left56_shifted = circular_left_shift(left56,numberofbits=1)\n",
    "right56_shifted = circular_left_shift(right56,numberofbits=1)\n",
    "keys_48bits = apply_compression(PC2,left56_shifted + right56_shifted)\n",
    "print('keys_48bits: ', keys_48bits)"
   ]
  },
  {
   "cell_type": "markdown",
   "metadata": {},
   "source": [
    "## Subkey generation and Round:\n",
    "\n",
    "Once every step of key generation is implemented as function, the output of each round can be achieved by looping and gluing each function together. The value of circular shift of each round can be seen a Python list and in each round the value can be access accordingly."
   ]
  },
  {
   "cell_type": "code",
   "execution_count": null,
   "metadata": {},
   "outputs": [],
   "source": [
    "def generate_keys(key_64bits):\n",
    "    # make an empty list for keys for all rounds\n",
    "    round_keys = None\n",
    "    \n",
    "    # perform the first permutation\n",
    "    pc1_out = None\n",
    "    \n",
    "    # do the split\n",
    "    L0,R0 = None\n",
    "    \n",
    "    # go through each round and generate the subkeys\n",
    "    for roundnumber in range(None):\n",
    "        # shift left for the left side\n",
    "        newL = None\n",
    "        \n",
    "        # shift left for the right side\n",
    "        newR = None\n",
    "        \n",
    "        # perform the second permutation\n",
    "        roundkey = None\n",
    "        \n",
    "        # add the new key to the list of keys\n",
    "        None\n",
    "        \n",
    "        # reassign the left and right side\n",
    "        L0 = None\n",
    "        R0 = None\n",
    "        \n",
    "    # return the keys    \n",
    "    return round_keys"
   ]
  },
  {
   "cell_type": "code",
   "execution_count": null,
   "metadata": {},
   "outputs": [],
   "source": [
    "round_shifts = [1, 1, 2, 2, 2, 2, 2, 2, 1, 2, 2, 2, 2, 2, 2, 1]\n",
    "key_64bits = \"0001001100110100010101110111100110011011101111001101111111110001\"\n",
    "subkeys = generate_keys(key_64bits)\n",
    "print(subkeys)"
   ]
  },
  {
   "cell_type": "code",
   "execution_count": null,
   "metadata": {},
   "outputs": [],
   "source": []
  }
 ],
 "metadata": {
  "kernelspec": {
   "display_name": "Python 3",
   "language": "python",
   "name": "python3"
  },
  "language_info": {
   "codemirror_mode": {
    "name": "ipython",
    "version": 3
   },
   "file_extension": ".py",
   "mimetype": "text/x-python",
   "name": "python",
   "nbconvert_exporter": "python",
   "pygments_lexer": "ipython3",
   "version": "3.6.4"
  }
 },
 "nbformat": 4,
 "nbformat_minor": 2
}
