{
 "cells": [
  {
   "cell_type": "markdown",
   "metadata": {},
   "source": [
    "# Data Encryption Standard\n",
    "\n",
    "## DES Round function\n",
    "\n",
    "In simple words DES round function takes two binary strings (32-bit and 48-bit) as input and produce a 32-bit output. The two input binary strings are one half of the plaintext (each round uses half from previous round ) and the round key. As input binary strings are of unequal size so the first step should be expanding or reducing the one or another. DES chooses expansion and expand 32-bit binary string to 48-bit with the help of an expansion table. Once both input strings are of equal length then a XOR (exclusive OR) operation is performed which result into a 48-bit binary string. The next step is to pass these 48-bit string to S-boxes which turns this into 32-bit string. The final step is a permutation which provides randomness by exchanging the bit position. \n",
    "\n",
    "<img src='images\\des_round_function_1.png'>\n",
    "<caption> \n",
    "<center>\n",
    "The DES Round Function Source: Introduction to Computer Security, Matt Bishop\n",
    "</center>\n",
    "</caption>    "
   ]
  },
  {
   "cell_type": "markdown",
   "metadata": {},
   "source": [
    "## Bits Expansion (E)\n",
    "\n",
    "The 32-bit binary string needs to expand upto 48-bit for further processing. This is done by using a expansion table which can be represented as Python List object for easy handling. Again, the value from expansion table will serve as index for input 32-bit string and the bit will selected and accumulated as new binary string."
   ]
  },
  {
   "cell_type": "code",
   "execution_count": 3,
   "metadata": {},
   "outputs": [],
   "source": [
    "EXPANSION_TABLE = [32,1,2,3,4,5,4,5,6,7,8,9,8,9,10,11,12,13,12,13,14,15,16,17,\n",
    "16,17,18,19,20,21,20,21,22,23,24,25,24,25,26,27,28,29,28,29,30,31,32,1]\n",
    "\n",
    "def apply_Expansion(expansion_table,bits32):\n",
    "    \"\"\" This will take expansion table and 32-bit binary string as input and output a 48-bit binary stirng\"\"\"\n",
    "    # make an empty string\n",
    "    bits48 = None\n",
    "    for index in None:\n",
    "        bits48 += None\n",
    "    return bits48"
   ]
  },
  {
   "cell_type": "code",
   "execution_count": 4,
   "metadata": {},
   "outputs": [
    {
     "name": "stdout",
     "output_type": "stream",
     "text": [
      "011110100001010101010101011110100001010101010101\n"
     ]
    }
   ],
   "source": [
    "bits32 = '11110000101010101111000010101010'\n",
    "out_bits48 = apply_Expansion(EXPANSION_TABLE,bits32)\n",
    "print(out_bits48)"
   ]
  },
  {
   "cell_type": "markdown",
   "metadata": {},
   "source": [
    "** Expected output: ** 011110100001010101010101011110100001010101010101"
   ]
  },
  {
   "cell_type": "markdown",
   "metadata": {},
   "source": [
    "## XOR (Exclusive OR)\n",
    "\n",
    "After expansion of 32-bit to 48-bit binary string, a XOR operation is performed on expanded 48-bit and input 48-bit key. The XOR is simple operation which checks the bit in both string for each index and result into ‘0’ if both are same i.e. (‘11’ and ‘00’) else result into ‘1’ for different value i.e. (‘01’ or ‘10’). For demo purpose this logic can be implemented as a simple python loop with if conditions."
   ]
  },
  {
   "cell_type": "code",
   "execution_count": 7,
   "metadata": {},
   "outputs": [],
   "source": [
    "def XOR(bits1,bits2):\n",
    "    \"\"\"perform a XOR operation and return the output\"\"\"\n",
    "    # Assuming both bit string of same length\n",
    "    # make an empty string\n",
    "    xor_result = None\n",
    "\tfor index in range(len(bits1)):\n",
    "\t\tif None: \n",
    "\t\t\txor_result += None\n",
    "\t\telse:\n",
    "\t\t\txor_result += None\n",
    "\treturn xor_result"
   ]
  },
  {
   "cell_type": "code",
   "execution_count": 11,
   "metadata": {},
   "outputs": [
    {
     "name": "stdout",
     "output_type": "stream",
     "text": [
      "0110\n"
     ]
    }
   ],
   "source": [
    "bits1 = '1100'\n",
    "bits2 = '1010'\n",
    "print(XOR(bits1,bits2))"
   ]
  },
  {
   "cell_type": "markdown",
   "metadata": {},
   "source": [
    "** Expected output: ** 0110"
   ]
  },
  {
   "cell_type": "markdown",
   "metadata": {},
   "source": [
    "## S-box Calculation\n",
    "\n",
    "The main part of this round function is the S-box calculation. In abstract view, this takes a 48-bit binary string as input and produce a 32-bit binary string as output with the help of 8 S-boxes. Each S-box has four rows and 16 columns numbered from (0–3 and 0–15) and each row has predefined value between 0 to 15. Figure 2 shows the S-boxes.\n",
    "<img src='images\\des_s_box.png'>\n",
    "\n",
    "Now, to use these S-boxes, Python list can be very handy which have concept of list within list. So, a Python list will have 8 element representing each of these eight S-boxes and then each of these 8 element will further have four list, one for each row and finally each row itself will be a Python list holding row values indexed between 0–15. So to access a value, the list will have three layer index. For example, if SBOX is the list representing the S-boxes then it can be access as SBOX[boxnumber][rownumber][column_number], where boxnumber will be between 0–7, rownumber [0–3] and column_number [0–15]. The Python representation is shown in following code snippet."
   ]
  },
  {
   "cell_type": "code",
   "execution_count": 12,
   "metadata": {},
   "outputs": [],
   "source": [
    "SBOX = [\n",
    "# Box-1\n",
    "[\n",
    "[14,4,13,1,2,15,11,8,3,10,6,12,5,9,0,7],\n",
    "[0,15,7,4,14,2,13,1,10,6,12,11,9,5,3,8],\n",
    "[4,1,14,8,13,6,2,11,15,12,9,7,3,10,5,0],\n",
    "[15,12,8,2,4,9,1,7,5,11,3,14,10,0,6,13]\n",
    "],\n",
    "# Box-2\n",
    "\n",
    "[\n",
    "[15,1,8,14,6,11,3,4,9,7,2,13,12,0,5,10],\n",
    "[3,13,4,7,15,2,8,14,12,0,1,10,6,9,11,5],\n",
    "[0,14,7,11,10,4,13,1,5,8,12,6,9,3,2,15],\n",
    "[13,8,10,1,3,15,4,2,11,6,7,12,0,5,14,9]\n",
    "],\n",
    "\n",
    "# Box-3\n",
    "\n",
    "[\n",
    "[10,0,9,14,6,3,15,5,1,13,12,7,11,4,2,8],\n",
    "[13,7,0,9,3,4,6,10,2,8,5,14,12,11,15,1],\n",
    "[13,6,4,9,8,15,3,0,11,1,2,12,5,10,14,7],\n",
    "[1,10,13,0,6,9,8,7,4,15,14,3,11,5,2,12]\n",
    "\n",
    "],\n",
    "\n",
    "# Box-4\n",
    "[\n",
    "[7,13,14,3,0,6,9,10,1,2,8,5,11,12,4,15],\n",
    "[13,8,11,5,6,15,0,3,4,7,2,12,1,10,14,9],\n",
    "[10,6,9,0,12,11,7,13,15,1,3,14,5,2,8,4],\n",
    "[3,15,0,6,10,1,13,8,9,4,5,11,12,7,2,14]\n",
    "],\n",
    "\n",
    "# Box-5\n",
    "[\n",
    "[2,12,4,1,7,10,11,6,8,5,3,15,13,0,14,9],\n",
    "[14,11,2,12,4,7,13,1,5,0,15,10,3,9,8,6],\n",
    "[4,2,1,11,10,13,7,8,15,9,12,5,6,3,0,14],\n",
    "[11,8,12,7,1,14,2,13,6,15,0,9,10,4,5,3]\n",
    "],\n",
    "# Box-6\n",
    "\n",
    "[\n",
    "[12,1,10,15,9,2,6,8,0,13,3,4,14,7,5,11],\n",
    "[10,15,4,2,7,12,9,5,6,1,13,14,0,11,3,8],\n",
    "[9,14,15,5,2,8,12,3,7,0,4,10,1,13,11,6],\n",
    "[4,3,2,12,9,5,15,10,11,14,1,7,6,0,8,13]\n",
    "\n",
    "],\n",
    "# Box-7\n",
    "[\n",
    "[4,11,2,14,15,0,8,13,3,12,9,7,5,10,6,1],\n",
    "[13,0,11,7,4,9,1,10,14,3,5,12,2,15,8,6],\n",
    "[1,4,11,13,12,3,7,14,10,15,6,8,0,5,9,2],\n",
    "[6,11,13,8,1,4,10,7,9,5,0,15,14,2,3,12]\n",
    "],\n",
    "# Box-8\n",
    "\n",
    "[\n",
    "[13,2,8,4,6,15,11,1,10,9,3,14,5,0,12,7],\n",
    "[1,15,13,8,10,3,7,4,12,5,6,11,0,14,9,2],\n",
    "[7,11,4,1,9,12,14,2,0,6,10,13,15,3,5,8],\n",
    "[2,1,14,7,4,10,8,13,15,12,9,0,3,5,6,11]\n",
    "]\n",
    "\n",
    "]\n"
   ]
  },
  {
   "cell_type": "markdown",
   "metadata": {},
   "source": [
    "To perform S-box operation the 48-bit XORed output is split into 8 part each having 6 bits. Then these 8 binary strings are passed to S-boxes one to each individual S-box. Each S-box works in similar manner and process 6 bits as follows, the first and last bit of string is treated as row number (00, 01,10,11 or 0,1,2,3 ) for the S-box and middle four value is treated as column number (0000 to 1111 or 0–15). Thus having row and column number help to access the value from the S-box which will be a decimal number between 0–15 and treating these as HEX convert it to a 4-bit binary string (0000 to 1111). So, each 8 boxes will return 4-bit as output and which combined together will form 32-bit output string. In the following code snippet the split part is carried out by the use of textwrap module which makes this kind of split very easy. Then a S-box lookup method is defined which takes three parameters (boxnumber, rownumber, column_number) and return a single value as output."
   ]
  },
  {
   "cell_type": "code",
   "execution_count": 13,
   "metadata": {},
   "outputs": [],
   "source": [
    "import textwrap\n",
    "\n",
    "def split_in_6bits(XOR_48bits):\n",
    "\t\"\"\"split 48 bits into 6 bits each \"\"\"\n",
    "\tlist_of_6bits = textwrap.wrap(XOR_48bits,6)\n",
    "\treturn list_of_6bits\n",
    "\n",
    "## Below are some supportive function used for smooth the process\n",
    "\n",
    "def get_first_and_last_bit(bits6):\n",
    "\t\"\"\"Return first and last bit from a binary string\"\"\"\n",
    "\ttwobits = None\n",
    "\treturn twobits\n",
    "\n",
    "def get_middle_four_bit(bits6):\n",
    "\t\"\"\"Return first and last bit from a binary string\"\"\"\n",
    "\tfourbits = None\n",
    "\treturn fourbits\n",
    "\n",
    "def binary_to_decimal(binarybits):\n",
    "\t\"\"\" Convert binary bits to decimal\"\"\"\n",
    "\t# helps during list access\n",
    "\tdecimal = int(binarybits,2)\n",
    "\treturn decimal\n",
    "\n",
    "def decimal_to_binary(decimal):\n",
    "\t\"\"\" Convert decimal to binary bits\"\"\"\n",
    "\tbinary4bits = bin(decimal)[2:].zfill(4)\n",
    "\treturn binary4bits\n",
    "\n",
    "def sbox_lookup(sboxcount,first_last,middle4):\n",
    "\t\"\"\" take three parameter and access the Sbox accordingly and return the value\"\"\"\n",
    "\td_first_last = binary_to_decimal(first_last)\n",
    "\td_middle = binary_to_decimal(middle4)\n",
    "\t\n",
    "\tsbox_value = SBOX[sboxcount][d_first_last][d_middle]\n",
    "\treturn decimal_to_binary(sbox_value)\n"
   ]
  },
  {
   "cell_type": "code",
   "execution_count": 17,
   "metadata": {},
   "outputs": [
    {
     "name": "stdout",
     "output_type": "stream",
     "text": [
      "0100\n"
     ]
    }
   ],
   "source": [
    "#Example:\n",
    "bits6 = '100000'\n",
    "first_last = get_first_and_last_bit(bits6)  # '10' -> 2\n",
    "middle4 = get_middle_four_bit(bits6)  # '0000' -> 0\n",
    "\n",
    "sboxcount = 4\n",
    "result = sbox_lookup(sboxcount,first_last,middle4) # i.e. 3rd row and first column --> 4 i.e. '0100'\n",
    "\n",
    "print(result)"
   ]
  },
  {
   "cell_type": "markdown",
   "metadata": {},
   "source": [
    "** Expected output: ** 0100"
   ]
  },
  {
   "cell_type": "markdown",
   "metadata": {},
   "source": [
    "## Final Permutation\n",
    "\n",
    "To bring randomness in cipher, each round perform permutation on the output of the round function. This permutation is also carried out with the permutation table designed for the round function. Very similar to previous table operation this can be also achieved as Python list and looping operation as shown in following code snippet."
   ]
  },
  {
   "cell_type": "code",
   "execution_count": 18,
   "metadata": {},
   "outputs": [],
   "source": [
    "PERMUTATION_TABLE = [16,7,20,21,29,12,28,17,1,15,23,26,5,18,31,10,\n",
    "\t\t                 2,8,24,14,32,27,3,9,19,13,30,6,22,11,4,25]\n",
    "\n",
    "def apply_Permutation(permutation_table,sbox_32bits):\n",
    "\t\"\"\" It takes Sboxes output and a permutation table and return 32 bit binary string\"\"\"\n",
    "\tfinal_32bits = \"\"\n",
    "\tfor index in None:\n",
    "\t\tfinal_32bits += None\n",
    "\treturn final_32bits\n"
   ]
  },
  {
   "cell_type": "markdown",
   "metadata": {},
   "source": [
    "## The Round Function F()\n",
    "\n",
    "With the help of previous functions, it will easy to perform round function which will take 32-bit and 48-bit as input and will return the final 32-bit as output. Following code snippet illustrate the implementation. This function can be easily map to the steps shown in the figure above."
   ]
  },
  {
   "cell_type": "code",
   "execution_count": 19,
   "metadata": {},
   "outputs": [],
   "source": [
    "def functionF(pre32bits, key48bits):\t\n",
    "    \"\"\"This is main function to perform function F \"\"\"\n",
    "    result = None\n",
    "    \n",
    "    # apply expansion on the left side\n",
    "    expanded_left_half = None\n",
    "    \n",
    "    # perform XOR on the left and the key\n",
    "    xor_value = XOR(expanded_left_half,key48bits)\n",
    "\n",
    "    # split the result into 6 bits \n",
    "    bits6list = split_in_6bits(xor_value)\n",
    "    \n",
    "    # go through each segment \n",
    "    for sboxcount, bits6 in enumerate(bits6list):\n",
    "        # get the first and last\n",
    "        first_last = None\n",
    "        \n",
    "        # get the middle\n",
    "        middle4 = None\n",
    "        \n",
    "        # get the correspodning Sbox value\n",
    "        sboxvalue = sbox_lookup(sboxcount,first_last,middle4)\n",
    "        \n",
    "        # add that to the result\n",
    "        result += None\n",
    "        \n",
    "    # apply the final permulation    \n",
    "    final32bits = None\n",
    "    \n",
    "    # return the result\n",
    "    return final32bits\n"
   ]
  },
  {
   "cell_type": "code",
   "execution_count": null,
   "metadata": {},
   "outputs": [],
   "source": []
  }
 ],
 "metadata": {
  "kernelspec": {
   "display_name": "Python 3",
   "language": "python",
   "name": "python3"
  },
  "language_info": {
   "codemirror_mode": {
    "name": "ipython",
    "version": 3
   },
   "file_extension": ".py",
   "mimetype": "text/x-python",
   "name": "python",
   "nbconvert_exporter": "python",
   "pygments_lexer": "ipython3",
   "version": "3.6.4"
  }
 },
 "nbformat": 4,
 "nbformat_minor": 2
}
