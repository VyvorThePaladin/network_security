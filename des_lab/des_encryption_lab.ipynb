{
 "cells": [
  {
   "cell_type": "markdown",
   "metadata": {},
   "source": [
    "# Data Encryption Standard (DES)\n",
    "\n",
    "## DES Encryption\n",
    "DES encryption is a block cipher which it process plaintext in bunch and 64bit is block size used by DES and it takes 64-bit key which used to generate 16 subkey for each of the round. For example purpose, I will take plaintext and key in hexadecimal i.e. 16 hex digits for plaintext and same length hex for the key. We will have a hex to binary conversion function to convert this into binary. We will go with string processing method for easy illustration. Let suppose the plaintext (M) = ‘0123456789ABCDEF’ . Code below show the converstion from hex digits to binary equivalent. We have implemented two function hexString_to_binary_bits1() and hexString_to_binary_bits2(), one is just using mapping and other use Python inbuilt function int() and bin() for conversion. Either one can be use according to need."
   ]
  },
  {
   "cell_type": "code",
   "execution_count": null,
   "metadata": {},
   "outputs": [],
   "source": [
    "HEX_to_Binary = {'0':'0000',\n",
    "\t\t '1':'0001',\n",
    "\t\t '2':'0010',\n",
    "\t\t '3':'0011',\n",
    "\t\t '4':'0100',\n",
    "\t\t '5':'0101',\n",
    "\t\t '6':'0110',\n",
    "\t\t '7':'0111',\n",
    "\t\t '8':'1000',\n",
    "\t\t '9':'1001',\n",
    "\t\t 'A':'1010',\n",
    "\t\t 'B':'1011',\n",
    "\t\t 'C':'1100',\n",
    "\t\t 'D':'1101',\n",
    "\t\t 'E':'1110',\n",
    "\t\t 'F':'1111',\n",
    "\t\t}\n",
    "\n",
    "\n",
    "def hexDigit_to_binary_bits(hex_digit):\n",
    "\tbinary_4bits = HEX_to_Binary[hex_digit]\n",
    "\treturn binary_4bits\n",
    "\n",
    "def hexString_to_binary_bits1(hex_string):\n",
    "\tbinary_bits = \"\"\n",
    "\tfor hex_digit in hex_string:\n",
    "\t\tbinary_bits += hexDigit_to_binary_bits(hex_digit)\n",
    "\treturn binary_bits\n",
    "\n",
    "def hexString_to_binary_bits2(hexdigits):\n",
    "\tbinarydigits = \"\"\n",
    "\tfor hexdigit in hexdigits:\n",
    "\t\tbinarydigits += bin(int(hexdigit,16))[2:].zfill(4)\n",
    "\treturn binarydigits"
   ]
  },
  {
   "cell_type": "code",
   "execution_count": null,
   "metadata": {},
   "outputs": [],
   "source": [
    "M = '0123456789ABCDEF' # plaintext in hexdecimal 16 digits so 64 bits \n",
    "print(\"hexString_to_binary: \", hexString_to_binary_bits1(M))\n",
    "# Output: 0000000100100011010001010110011110001001101010111100110111101111\n",
    "print('hexString_to_binary: ', hexString_to_binary_bits2(M))\n",
    "# Output: 0000000100100011010001010110011110001001101010111100110111101111"
   ]
  },
  {
   "cell_type": "markdown",
   "metadata": {},
   "source": [
    "So once we converted the plaintext message to binary equivalent we are good to go for the DES encryption. As, I have stated earlier DES has 16 round of operation for encryption and decryption. The process is clear with the following figure:\n",
    "\n",
    "<img src='images/des_encryption.png' >"
   ]
  },
  {
   "cell_type": "markdown",
   "metadata": {},
   "source": [
    "## Initial Permutation\n",
    "\n",
    "So, the very first step of DES encryption is the process called Initial permutation which is just rearrangement of plaintext bits accroding to a given permutation table. Below code snippet perform this operation."
   ]
  },
  {
   "cell_type": "code",
   "execution_count": null,
   "metadata": {},
   "outputs": [],
   "source": [
    "def hexTobinary(hexdigits):\n",
    "\tbinarydigits = \"\"\n",
    "\tfor hexdigit in hexdigits:\n",
    "\t\tbinarydigits += bin(int(hexdigit,16))[2:].zfill(4)\n",
    "\treturn binarydigits\n",
    "\n",
    "\n",
    "\n",
    "INITIAL_PERMUTATION_TABLE = ['58 ', '50 ', '42 ', '34 ', '26 ', '18 ', '10 ', '2',\n",
    "\t\t\t '60 ', '52 ', '44 ', '36 ', '28 ', '20 ', '12 ', '4',\n",
    "\t\t\t '62 ', '54 ', '46 ', '38 ', '30 ', '22 ', '14 ', '6', \n",
    "\t\t\t'64 ', '56 ', '48 ', '40 ', '32 ', '24 ', '16 ', '8', \n",
    "\t\t\t'57 ', '49 ', '41 ', '33 ', '25 ', '17 ', '9 ', '1',\n",
    "\t\t\t '59 ', '51 ', '43 ', '35 ', '27 ', '19 ', '11 ', '3',\n",
    "\t\t\t '61 ', '53 ', '45 ', '37 ', '29 ', '21 ', '13 ', '5',\n",
    "\t\t\t '63 ', '55 ', '47 ', '39 ', '31 ', '23 ', '15 ', '7']\n",
    "\n",
    "\n",
    "\n",
    "def apply_initial_p(P_TABLE, PLAINTEXT):\n",
    "\tpermutated_M = None\n",
    "\tfor index in None:\n",
    "\t\tpermutated_M += None\n",
    "\treturn permutated_M\n"
   ]
  },
  {
   "cell_type": "code",
   "execution_count": null,
   "metadata": {},
   "outputs": [],
   "source": [
    "M = '0123456789ABCDEF'\n",
    "plaintext = hexTobinary(M)\n",
    "p_plaintext = apply_initial_p(INITIAL_PERMUTATION_TABLE,plaintext)\n",
    "print(p_plaintext)"
   ]
  },
  {
   "cell_type": "markdown",
   "metadata": {},
   "source": [
    "** Expected output: **  \n",
    "- 0000000100100011010001010110011110001001101010111100110111101111\n",
    "- 1100110000000000110011001111111111110000101010101111000010101010"
   ]
  },
  {
   "cell_type": "markdown",
   "metadata": {},
   "source": [
    "## Splitting the plaintext (L,R)\n",
    "\n",
    "DES split the permuted plaintext into two equal before entering into the the rounds. Each half is passed to next round after each processing is done on each of these separately. If you notice in the Figure, after each round each half value is swapped in next round. We will come to that later but before that simply split the permuted text."
   ]
  },
  {
   "cell_type": "code",
   "execution_count": null,
   "metadata": {},
   "outputs": [],
   "source": [
    "def spliHalf(binarybits):\n",
    "\treturn None"
   ]
  },
  {
   "cell_type": "code",
   "execution_count": null,
   "metadata": {},
   "outputs": [],
   "source": [
    "L0,R0 = spliHalf(p_plaintext)\n",
    "print(L0,R0)"
   ]
  },
  {
   "cell_type": "markdown",
   "metadata": {},
   "source": [
    "** Expected output: **\n",
    "- '11001100000000001100110011111111' \n",
    "- '11110000101010101111000010101010'"
   ]
  },
  {
   "cell_type": "markdown",
   "metadata": {},
   "source": [
    "## Inverse Permutation\n",
    "\n",
    "Now, if we look in above Figure, We will observed that we have almost all the functions required for DES rounds except XOR and last step of encryption that is inverse permutation. XOR function we have implemented in previous part so we will just borrow that from there. Inverse permutation is again simple arrangement of bits according to inverse permutation table which apply on the 64 bits output of DES 16 rounds. Below code will illustrate the inverse permutation methods."
   ]
  },
  {
   "cell_type": "code",
   "execution_count": null,
   "metadata": {},
   "outputs": [],
   "source": [
    "INVERSE_PERMUTATION_TABLE = ['40 ', '8 ', '48 ', '16 ', '56 ', '24 ', '64 ', '32',\n",
    "\t\t\t     '39 ', '7 ', '47 ', '15 ', '55 ', '23 ', '63 ', '31',\n",
    "\t\t\t     '38 ', '6 ', '46 ', '14 ',  '54 ', '22 ', '62 ', '30',\n",
    "\t\t\t     '37 ', '5 ', '45 ', '13 ', '53 ', '21 ', '61 ', '29',\n",
    "\t\t\t     '36 ', '4 ', '44 ', '12 ', '52 ', '20 ', '60 ', '28',\n",
    "\t\t\t     '35 ', '3 ', '43 ', '11 ', '51 ', '19 ', '59 ', '27', \n",
    "\t\t\t     '34 ', '2 ', '42 ', '10 ', '50 ', '18 ', '58 ', '26',\n",
    "\t\t\t     '33 ', '1 ', '41 ', '9 ', '49 ', '17 ', '57 ', '25']\n",
    "\n",
    "\n",
    "def apply_initial_p(INVERSE_P_TABLE, ROUND_OUT):\n",
    "\tcipher = None\n",
    "\tfor index in None:\n",
    "\t\tcipher += None\n",
    "\treturn cipher"
   ]
  },
  {
   "cell_type": "code",
   "execution_count": null,
   "metadata": {},
   "outputs": [],
   "source": [
    "# Suppose\n",
    "\n",
    "R16 = '11001100000000001100110011111111'  \n",
    "L16 = '11110000101010101111000010101010'\n",
    "\n",
    "cipher = apply_initial_p(INVERSE_PERMUTATION_TABLE, R16+L16)\n",
    "\n",
    "print(cipher,len(cipher))\n",
    "# Ouptput\n",
    "# 0000000100100011010001010110011110001001101010111100110111101111 64"
   ]
  },
  {
   "cell_type": "markdown",
   "metadata": {},
   "source": [
    "** Expected output: ** \n",
    "- 0000000100100011010001010110011110001001101010111100110111101111\n",
    "- 64"
   ]
  },
  {
   "cell_type": "markdown",
   "metadata": {},
   "source": [
    "## DES encryption\n",
    "\n",
    "Now, we have all the required function and each step is explained, so we will go for DES rounds and will try to implement it. In each round of DES, the right half i.e. 32 bits and the round key is passed to the function F() that we have implemented. Output of function F() i.e. 32 bits is XOR with the 32 bits left half, result of which is passed to next round as Right half and Right half is passed to the next round as Left half. and this process is repeated in all round except the last round i.e. 16th round. Please refer above figure."
   ]
  },
  {
   "cell_type": "markdown",
   "metadata": {},
   "source": [
    "So, if we want to implement DES as function which takes plaintext and key as input and produce cipher as output. We can do it by simply calling all supportive function as shown in below code."
   ]
  },
  {
   "cell_type": "code",
   "execution_count": null,
   "metadata": {},
   "outputs": [],
   "source": [
    "def DES_encrypt(message,key):\n",
    "    \n",
    "    # empty string for the ciphertext\n",
    "    cipher = \"\"\n",
    "    \n",
    "    # Convert hex digits to binary for message and key\n",
    "    plaintext_bits = None\n",
    "    key_bits = None\n",
    "    \n",
    "    # Generate rounds key\n",
    "    roundkeys = generate_keys(key_bits)\n",
    "    \n",
    "    #### DES steps\n",
    "    \n",
    "    ## initial permutation\n",
    "    p_plaintext = None\n",
    "\n",
    "    ## split plaintext in tow half\n",
    "    L,R = None\n",
    "\n",
    "    ## start rounds\n",
    "    for round in range(16):\n",
    "        # get the new L and R \n",
    "        newR = None\n",
    "        newL = None\n",
    "        \n",
    "        # reassing the L and R\n",
    "        R = newR\n",
    "        L = newL\n",
    "    \n",
    "    # add the inverse permutation    \n",
    "    cipher = apply_initial_p(INVERSE_PERMUTATION_TABLE, R+L)\n",
    "    return cipher\n",
    "    "
   ]
  },
  {
   "cell_type": "code",
   "execution_count": null,
   "metadata": {},
   "outputs": [],
   "source": [
    "M = '0123456789ABCDEF'\n",
    "key ='12345678ABCEDFF9'\n",
    "DES_encrypt(M,key)"
   ]
  },
  {
   "cell_type": "code",
   "execution_count": null,
   "metadata": {},
   "outputs": [],
   "source": []
  }
 ],
 "metadata": {
  "kernelspec": {
   "display_name": "Python 3",
   "language": "python",
   "name": "python3"
  },
  "language_info": {
   "codemirror_mode": {
    "name": "ipython",
    "version": 3
   },
   "file_extension": ".py",
   "mimetype": "text/x-python",
   "name": "python",
   "nbconvert_exporter": "python",
   "pygments_lexer": "ipython3",
   "version": "3.6.4"
  }
 },
 "nbformat": 4,
 "nbformat_minor": 2
}
