{
 "cells": [
  {
   "cell_type": "code",
   "execution_count": null,
   "metadata": {},
   "outputs": [],
   "source": [
    "import rsa"
   ]
  },
  {
   "cell_type": "markdown",
   "metadata": {},
   "source": [
    "# Public Key Cryptography\n",
    "\n",
    "Public-key cryptography provides a radical departure from all that has gone before. For one thing, public-key algorithms are based on mathematical functions rather than on substitution and permutation. More important, public-key cryptography is asymmetric, involving the use of two separate keys, in contrast to symmetric encryption, which uses only one key. The use of two keys has profound consequences in the areas of confidentiality, key distribution, and authentication, as we shall see.\n",
    "\n",
    "<img src='public_key_images/public_key_terminology.png' width=50%>"
   ]
  },
  {
   "cell_type": "markdown",
   "metadata": {},
   "source": [
    "## Public Key Cryptosystem\n",
    "\n",
    "Asymmetric algorithms rely on one key for encryption and a different but related key for decryption. These algorithms have the following important characteristic.\n",
    "\n",
    "-  It is computationally infeasible to determine the decryption key given only knowledge of the cryptographic algorithm and the encryption key.\n",
    "\n",
    "-  Either of the two related keys can be used for encryption, with the other used for decryption.\n",
    "\n",
    "A public-key encryption  scheme has six ingredients: \n",
    "\n",
    "- *Plaintext:*  This is the readable message or data that is fed into the algorithm as input.\n",
    "\n",
    "- *Encryption algorithm:* The encryption algorithm performs various transformations on the plaintext.\n",
    "\n",
    "- *Public and private keys:* This is a pair of keys that have been selected so that if one is used for encryption, the other is used for decryption. The exact transformations performed by the algorithm depend on the public or private key that is provided as input.\n",
    "\n",
    "- *Ciphertext:* This is the scrambled message produced as output. It depends on the plaintext and the key. For a given message, two different keys will produce two different ciphertexts.\n",
    "\n",
    "- *Decryption algorithm:* This algorithm accepts the ciphertext and the matching key and produces the original plaintext.\n",
    "\n",
    "<img src='public_key_images/conv_vs_public.png' width=50%>"
   ]
  },
  {
   "cell_type": "markdown",
   "metadata": {},
   "source": [
    "## Rivest-Shamir-Adleman (RSA) Algorithm\n",
    "\n",
    "The RSA  scheme is a cipher in which the plaintext and ciphertext are integers between $0$ and $n - 1$ for some $n$. A typical size for $n$ is $1024$ bits, or $309$ decimal digits. That is, $n$ is less than $21024$. \n",
    "\n",
    "RSA makes use of an expression with exponentials. Plaintext is encrypted in blocks, with each block having a binary value less than some number n . That is, the block size must be less than or equal to $log_2 (n) +  1$; in practice, the block size is $i$ bits, where $2^i < n \\le 2^{i+1}$ . Encryption and decryption are of the following form, for some plaintext block $M$  and ciphertext block $C$.\n",
    "\n",
    "$C = M^e$  mod $n$ <br>\n",
    "$M = C^d$  mod $n = (M^e)^d$  mod $n = M^{ed}$  mod  n <br>\n",
    "\n",
    "\n",
    "Both sender and receiver must know the value of $n$ . The sender knows the value of $e$ , and only the receiver knows the value of $d$. Thus, this is a public-key encryption algorithm with a public key of $PU =  \\{e , n\\}$ and a private key of $PR = \\{d , n \\}$. For this algorithm to be satisfactory for public-key encryption, the following requirements\n",
    "must be met.\n",
    "1.  It is possible to find values of $e$ , $d$ , $n$  such that $M^{ed}$  mod $n = M$  for all $M < n$.\n",
    "2.  It is relatively easy to calculate $M^e$  mod $n$ and $C^d$  mod $n$  for all values of $M < n$.\n",
    "3.  It is infeasible to determine $d$  given $e$  and $n$.\n",
    "\n",
    "<img src='public_key_images/RSA_algorithm.png' width=50%>"
   ]
  },
  {
   "cell_type": "markdown",
   "metadata": {},
   "source": [
    "## Key Generation\n",
    "\n",
    "Before the application of the public-key cryptosystem, each participant must generate a pair of keys. This involves the following tasks.\n",
    "-  Determining two prime numbers, $p$  and $q$.\n",
    "-  Selecting either $e$ or $d$ and calculating the other.\n",
    "\n",
    "**Exercise:** Implement `generate_keys()` to generate public and private keys for a specific user. Using the Python RSA package, generate a public and private keys based on the given number of bits for $n$ (e.g., $n=512$). \n",
    "\n",
    "**Hint:** Refer to https://stuvel.eu/python-rsa-doc/usage.html for usage of RSA package."
   ]
  },
  {
   "cell_type": "code",
   "execution_count": null,
   "metadata": {},
   "outputs": [],
   "source": [
    "def generate_keys(user_name, n_bits):\n",
    "    # empty dictonary with user_name as a key \n",
    "    # another dictioary as a value with 'PUBLIC' and 'PRIVATE' keys and None as values \n",
    "    ret = {user_name: {'PUBLIC': None,\n",
    "                       'PRIVATE': None\n",
    "                      }\n",
    "          }\n",
    "    \n",
    "    # generate public and private keys using RSA package\n",
    "    (pubkey, privkey) = None\n",
    "    \n",
    "    # assign the keys to the corresponding values in ret\n",
    "    None\n",
    "    \n",
    "    return ret\n",
    "    "
   ]
  },
  {
   "cell_type": "markdown",
   "metadata": {},
   "source": [
    "## Encryption and Decryption\n",
    "\n",
    "The essential steps in public key encryption and decryption are shown below:\n",
    "\n",
    "<img src='public_key_images/public_key_encyption.png' width=50%>"
   ]
  },
  {
   "cell_type": "markdown",
   "metadata": {},
   "source": [
    "**Exercise:** Implement `public_key_cryptography()` to perform pubic key encryption and decryption. Note that \n",
    "- mode: represent whether the encryption is for secrecy or authentication\n",
    "    - mode == \"SECRECY\": use public key for encryption. **Hint**: Use RSA encryption and decryption functions for the encryption/decryption algorithms (see https://stuvel.eu/python-rsa-doc/usage.html#encryption-and-decryption).\n",
    "    - mode == \"AUTHENTICATION\": use private key for encryption. **Hint**: Use RSA sign and verify functions for the encryption/decryption algorithms (see https://stuvel.eu/python-rsa-doc/usage.html#signing-and-verification).\n",
    "\n",
    "\n"
   ]
  },
  {
   "cell_type": "code",
   "execution_count": null,
   "metadata": {},
   "outputs": [],
   "source": [
    "def public_key_cryptography(plain_input, mode):\n",
    "    \n",
    "    assert mode == 'SECRECY' or mode == 'AUTHENTICATION'\n",
    "    \n",
    "    # create empty dictionary for keys\n",
    "    keys = {}\n",
    "    \n",
    "    # generate public and private keys for Bob, Joy, Mike, Alice and Ted\n",
    "    n_bits = 512\n",
    "    for user_name in ('Bob', 'Joy', 'Mike', 'Alice', 'Ted'):\n",
    "        # generate key\n",
    "        ret = None\n",
    "        \n",
    "        # update keys dictioanry\n",
    "        keys.update(None)\n",
    "    \n",
    "    # based on the mode, perform ecnryption of plain text at Bob's computer for Alice\n",
    "    # and decryption and Alice's\n",
    "   \n",
    "    \n",
    "    # if mode == 'SECRECY' implement figure (a) \n",
    "    # use RSA encryption and decryption functions\n",
    "    if mode == 'SECRECY':\n",
    "        cipher_text = None\n",
    "        decoded_text = None\n",
    "        sanity = plain_input == decoded_text\n",
    "    \n",
    "    # if mode == 'AUTHENTICATION' implement figure (b)\n",
    "    # use RSA sign and verify function\n",
    "    elif mode == 'AUTHENTICATION':\n",
    "        cipher_text = None\n",
    "        hash_used = None\n",
    "        sanity = hash_used == 'SHA-1'\n",
    "        \n",
    "        \n",
    "    \n",
    "    \n",
    "    return sanity"
   ]
  },
  {
   "cell_type": "code",
   "execution_count": null,
   "metadata": {},
   "outputs": [],
   "source": [
    "plain_input = bytes('hello world'.encode())\n",
    "print('Public Key cryptography with public key: ', public_key_cryptography(plain_input, mode='SECRECY'))\n",
    "print('Public Key cryptography with private key: ', public_key_cryptography(plain_input, mode='AUTHENTICATION'))"
   ]
  },
  {
   "cell_type": "code",
   "execution_count": null,
   "metadata": {},
   "outputs": [],
   "source": []
  }
 ],
 "metadata": {
  "kernelspec": {
   "display_name": "Python 3",
   "language": "python",
   "name": "python3"
  },
  "language_info": {
   "codemirror_mode": {
    "name": "ipython",
    "version": 3
   },
   "file_extension": ".py",
   "mimetype": "text/x-python",
   "name": "python",
   "nbconvert_exporter": "python",
   "pygments_lexer": "ipython3",
   "version": "3.7.0"
  }
 },
 "nbformat": 4,
 "nbformat_minor": 2
}
