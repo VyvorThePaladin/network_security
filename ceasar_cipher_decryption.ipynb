{
 "cells": [
  {
   "cell_type": "markdown",
   "metadata": {},
   "source": [
    "## Ceaser Cipher Decryption"
   ]
  },
  {
   "cell_type": "markdown",
   "metadata": {},
   "source": [
    "#### 1. Character map\n",
    "1. Map A-Z to 0-25"
   ]
  },
  {
   "cell_type": "code",
   "execution_count": 2,
   "metadata": {},
   "outputs": [
    {
     "name": "stdout",
     "output_type": "stream",
     "text": [
      "{'A': 0,\n",
      " 'B': 1,\n",
      " 'C': 2,\n",
      " 'D': 3,\n",
      " 'E': 4,\n",
      " 'F': 5,\n",
      " 'G': 6,\n",
      " 'H': 7,\n",
      " 'I': 8,\n",
      " 'J': 9,\n",
      " 'K': 10,\n",
      " 'L': 11,\n",
      " 'M': 12,\n",
      " 'N': 13,\n",
      " 'O': 14,\n",
      " 'P': 15,\n",
      " 'Q': 16,\n",
      " 'R': 17,\n",
      " 'S': 18,\n",
      " 'T': 19,\n",
      " 'U': 20,\n",
      " 'V': 21,\n",
      " 'W': 22,\n",
      " 'X': 23,\n",
      " 'Y': 24,\n",
      " 'Z': 25}\n"
     ]
    }
   ],
   "source": [
    "from pprint import pprint\n",
    "# define an empty dictionary (ch_map)\n",
    "ch_map = {}\n",
    "for counter in range(0,26):\n",
    "    ch = chr(counter + 65)\n",
    "    ch_map[ch] = counter\n",
    "pprint(ch_map)"
   ]
  },
  {
   "cell_type": "markdown",
   "metadata": {},
   "source": [
    "#### 2. Decryption Algorithm\n",
    "1. C: the encrypted character\n",
    "2. k: the number of shifts from the original position\n",
    "3. p: the original position of the character\n",
    "\n",
    "$p = D(k,C) = (C-k)\\mod\\ 26$"
   ]
  },
  {
   "cell_type": "code",
   "execution_count": 3,
   "metadata": {},
   "outputs": [],
   "source": [
    "def caesar_decryption(C,k=3):\n",
    "    p = (C - k) % 26\n",
    "    return p"
   ]
  },
  {
   "cell_type": "code",
   "execution_count": 4,
   "metadata": {},
   "outputs": [],
   "source": [
    "#C = ch_map['K']\n",
    "#print(caesar_decryption(C))"
   ]
  },
  {
   "cell_type": "markdown",
   "metadata": {},
   "source": [
    "#### 3. Wrapper function to decrypt  ciphertext to plaintext\n",
    " Input: ciphertext\n",
    " Output: plaintext\n",
    "\n",
    "1. Get each character of the ciphertext\n",
    "2. decrypt it to a number\n",
    "3. convert the number to an ASCII value"
   ]
  },
  {
   "cell_type": "code",
   "execution_count": 5,
   "metadata": {},
   "outputs": [],
   "source": [
    "def cipher_decrypt(cipher_text, k=3):\n",
    "    plain_text = ''\n",
    "    # get each char of the ciphertext\n",
    "    for letter in cipher_text:\n",
    "        # map int value of letter\n",
    "        C = ch_map[letter]\n",
    "        # decrypt it\n",
    "        p = caesar_decryption(C,k)\n",
    "        # convert p to ASCII (small letter)\n",
    "        plain_letter = chr(p + 97)\n",
    "        plain_text += plain_letter\n",
    "    return plain_text"
   ]
  },
  {
   "cell_type": "code",
   "execution_count": 6,
   "metadata": {},
   "outputs": [
    {
     "name": "stdout",
     "output_type": "stream",
     "text": [
      "maryland\n",
      "maryland\n"
     ]
    }
   ],
   "source": [
    "plaintext_1 = cipher_decrypt(cipher_text='PDUBODQG')\n",
    "plaintext_2 = cipher_decrypt('RFWDQFSI', 5)\n",
    "print(plaintext_1)\n",
    "print(plaintext_2)"
   ]
  },
  {
   "cell_type": "code",
   "execution_count": null,
   "metadata": {},
   "outputs": [],
   "source": []
  }
 ],
 "metadata": {
  "kernelspec": {
   "display_name": "Python 3",
   "language": "python",
   "name": "python3"
  },
  "language_info": {
   "codemirror_mode": {
    "name": "ipython",
    "version": 3
   },
   "file_extension": ".py",
   "mimetype": "text/x-python",
   "name": "python",
   "nbconvert_exporter": "python",
   "pygments_lexer": "ipython3",
   "version": "3.6.5"
  }
 },
 "nbformat": 4,
 "nbformat_minor": 2
}
