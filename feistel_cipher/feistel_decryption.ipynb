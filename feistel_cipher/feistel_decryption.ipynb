{
 "cells": [
  {
   "cell_type": "code",
   "execution_count": null,
   "metadata": {},
   "outputs": [],
   "source": [
    "def round_function(ret, k):\n",
    "    # we need to convert binary to int\n",
    "    ret_int = int(x, 2)\n",
    "    k_int = int(k, 2)\n",
    "    # reverse the multiplication\n",
    "    x_int = ret_int * k_int\n",
    "    # convert it back to binary\n",
    "    x = bin(x_int)\n",
    "    # return the result\n",
    "    return x"
   ]
  },
  {
   "cell_type": "code",
   "execution_count": null,
   "metadata": {},
   "outputs": [],
   "source": [
    "# feistel decryption function for layer i\n",
    "def feistel_decrypt(LD_prev, RD_prev, k_j):\n",
    "\n",
    "    LD_i = RD_prev\n",
    "\n",
    "    rf_int = int(round_function(RD_prev, k_j), 2)\n",
    "    LD_prev_int = int(LD_prev, 2)\n",
    "    # perform the xor\n",
    "    RD_i_int = rf_int ^ LD_prev_int\n",
    "    # convert back to binary\n",
    "    RD_i = bin(RD_i_int)\n",
    "    # return the output\n",
    "    return LD_i, RD_i"
   ]
  },
  {
   "cell_type": "code",
   "execution_count": null,
   "metadata": {},
   "outputs": [],
   "source": [
    "LD_prev = bin(int(round_function(bin(0x03A6), bin(0x12DE52)), 2) ^ int(bin(0xDE7F), 2))\n",
    "\n",
    "RD_prev = bin(0x03A6)\n",
    "\n",
    "k_j = bin(0x12DE52)\n",
    "# run the feistel encrypt\n",
    "x = feistel_decrypt(LD_prev, RD_prev, k_j)\n",
    "\n",
    "print(x)"
   ]
  }
 ],
 "metadata": {
  "kernelspec": {
   "display_name": "Python 3",
   "language": "python",
   "name": "python3"
  },
  "language_info": {
   "codemirror_mode": {
    "name": "ipython",
    "version": 3
   },
   "file_extension": ".py",
   "mimetype": "text/x-python",
   "name": "python",
   "nbconvert_exporter": "python",
   "pygments_lexer": "ipython3",
   "version": "3.6.5"
  }
 },
 "nbformat": 4,
 "nbformat_minor": 2
}
