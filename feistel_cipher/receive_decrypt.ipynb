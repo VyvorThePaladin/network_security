{
 "cells": [
  {
   "cell_type": "code",
   "execution_count": 14,
   "metadata": {},
   "outputs": [],
   "source": [
    "import socket"
   ]
  },
  {
   "cell_type": "markdown",
   "metadata": {},
   "source": [
    "#### 1. Create a char map\n",
    "+ For big letters because encrypted text"
   ]
  },
  {
   "cell_type": "code",
   "execution_count": 15,
   "metadata": {},
   "outputs": [],
   "source": [
    "ch_map = {}\n",
    "for counter in range(0,26):\n",
    "    ch = chr(counter + 65)\n",
    "    ch_map[ch] = counter "
   ]
  },
  {
   "cell_type": "markdown",
   "metadata": {},
   "source": [
    "#### 2. Define decryption algorithm"
   ]
  },
  {
   "cell_type": "code",
   "execution_count": 16,
   "metadata": {},
   "outputs": [],
   "source": [
    "def caesar_decryption(c, k=3):\n",
    "    P = ( c - k) % 26\n",
    "    return P  "
   ]
  },
  {
   "cell_type": "code",
   "execution_count": 17,
   "metadata": {},
   "outputs": [],
   "source": [
    "def caesar_decrypt(cipher_text, k=3):\n",
    "    plain_text = ''\n",
    "    for letter in cipher_text:\n",
    "        if(letter.isalpha() == 1):\n",
    "            c = ch_map[letter]\n",
    "            P = caesar_decrypt(c,k)\n",
    "            plain_letter = chr(P + 97)\n",
    "            plain_text += plain_letter   \n",
    "        else:\n",
    "            plain_text = plain_text + letter\n",
    "    return plain_text"
   ]
  },
  {
   "cell_type": "code",
   "execution_count": 18,
   "metadata": {},
   "outputs": [],
   "source": [
    "def udp_receive(UDP_IP,UDP_PORT):\n",
    "    \n",
    "    f = open(\"result.txt\", \"w\")\n",
    "    sock = socket.socket(socket.AF_INET, socket.SOCK_DGRAM)\n",
    "    sock.bind((UDP_IP, UDP_PORT))\n",
    "\n",
    "    data, addr = sock.recvfrom(1024)\n",
    "    print(\"received message:\", data.decode(), \"\\n\")\n",
    "    result = caesar_decrypt(data.decode())\n",
    "    f.write(result)"
   ]
  },
  {
   "cell_type": "code",
   "execution_count": 19,
   "metadata": {
    "scrolled": true
   },
   "outputs": [
    {
     "name": "stdout",
     "output_type": "stream",
     "text": [
      "received message: KHOOR ZRUOG, WKLV LV VXMLW NRQDSXU\n",
      " \n",
      "\n"
     ]
    }
   ],
   "source": [
    "UDP_IP = '10.28.123.22'\n",
    "UDP_PORT = 8443\n",
    "udp_receiver(UDP_IP,UDP_PORT)"
   ]
  }
 ],
 "metadata": {
  "kernelspec": {
   "display_name": "Python 3",
   "language": "python",
   "name": "python3"
  },
  "language_info": {
   "codemirror_mode": {
    "name": "ipython",
    "version": 3
   },
   "file_extension": ".py",
   "mimetype": "text/x-python",
   "name": "python",
   "nbconvert_exporter": "python",
   "pygments_lexer": "ipython3",
   "version": "3.6.5"
  }
 },
 "nbformat": 4,
 "nbformat_minor": 2
}
