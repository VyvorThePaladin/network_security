{
 "cells": [
  {
   "cell_type": "code",
   "execution_count": 22,
   "metadata": {},
   "outputs": [],
   "source": [
    "import socket"
   ]
  },
  {
   "cell_type": "markdown",
   "metadata": {},
   "source": [
    "#### 1. Create a character map\n",
    "+ Must be for small letters"
   ]
  },
  {
   "cell_type": "code",
   "execution_count": 23,
   "metadata": {},
   "outputs": [],
   "source": [
    "ch_map = {}\n",
    "for counter in range(0,26):\n",
    "    ch = chr(counter + 97)\n",
    "    ch_map[ch] = counter "
   ]
  },
  {
   "cell_type": "markdown",
   "metadata": {},
   "source": [
    "#### 2. Define caesar encryption algorithm"
   ]
  },
  {
   "cell_type": "code",
   "execution_count": 24,
   "metadata": {},
   "outputs": [],
   "source": [
    "def caesar_encryption(p, k=3):\n",
    "    C = ( p + k) % 26\n",
    "    return C    "
   ]
  },
  {
   "cell_type": "markdown",
   "metadata": {},
   "source": [
    "#### 3. Encrypt plaintext to ciphertext\n",
    "+ Pass char by char to encrypt func\n",
    "+ Convert to big letter\n",
    "+ Return encrypted text"
   ]
  },
  {
   "cell_type": "code",
   "execution_count": 25,
   "metadata": {},
   "outputs": [],
   "source": [
    "def caesar_encrypt(plain_text, k=3):\n",
    "    cipher_text = ''\n",
    "    for letter in plain_text:\n",
    "        if(letter.isalpha() == 1):\n",
    "            p = ch_map[letter]\n",
    "            C = caesar_encryption(p,k)\n",
    "            cipher_letter = chr(C + 65)\n",
    "            cipher_text += cipher_letter    \n",
    "        else:\n",
    "            cipher_text = cipher_text + letter\n",
    "    return cipher_text"
   ]
  },
  {
   "cell_type": "code",
   "execution_count": 26,
   "metadata": {},
   "outputs": [],
   "source": [
    "def udp_send(sock,UDP_IP,UDP_PORT,MESSAGE):\n",
    "    sock.sendto(MESSAGE, (UDP_IP, UDP_PORT))"
   ]
  },
  {
   "cell_type": "markdown",
   "metadata": {},
   "source": [
    "#### 4. Test sending"
   ]
  },
  {
   "cell_type": "code",
   "execution_count": 27,
   "metadata": {},
   "outputs": [],
   "source": [
    "def udp_test(message):\n",
    "    sock = socket.socket(socket.AF_INET, socket.SOCK_DGRAM)\n",
    "    UDP_IP = '10.28.123.22'\n",
    "    UDP_PORT = 8443\n",
    "    \n",
    "    udp_send(sock,UDP_IP,UDP_PORT,MESSAGE=message.encode())"
   ]
  },
  {
   "cell_type": "code",
   "execution_count": 28,
   "metadata": {},
   "outputs": [],
   "source": [
    "f = open(\"input.txt\")\n",
    "text = \"\"\n",
    "for character in f.read():\n",
    "    text = text + character\n",
    "\n",
    "message = caesar_encrypt(str.lower(text))\n",
    "udp_test(message)"
   ]
  }
 ],
 "metadata": {
  "kernelspec": {
   "display_name": "Python 3",
   "language": "python",
   "name": "python3"
  },
  "language_info": {
   "codemirror_mode": {
    "name": "ipython",
    "version": 3
   },
   "file_extension": ".py",
   "mimetype": "text/x-python",
   "name": "python",
   "nbconvert_exporter": "python",
   "pygments_lexer": "ipython3",
   "version": "3.6.5"
  }
 },
 "nbformat": 4,
 "nbformat_minor": 2
}
